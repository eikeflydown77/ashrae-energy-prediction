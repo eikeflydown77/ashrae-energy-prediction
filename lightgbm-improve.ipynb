{
 "cells": [
  {
   "cell_type": "code",
   "execution_count": 1,
   "metadata": {
    "_cell_guid": "b1076dfc-b9ad-4769-8c92-a6c4dae69d19",
    "_uuid": "8f2839f25d086af736a60e9eeb907d3b93b6e0e5",
    "execution": {
     "iopub.execute_input": "2023-12-12T12:54:16.247899Z",
     "iopub.status.busy": "2023-12-12T12:54:16.247556Z",
     "iopub.status.idle": "2023-12-12T12:54:18.274668Z",
     "shell.execute_reply": "2023-12-12T12:54:18.273387Z",
     "shell.execute_reply.started": "2023-12-12T12:54:16.247845Z"
    }
   },
   "outputs": [],
   "source": [
    "import numpy as np\n",
    "import pandas as pd\n",
    "import matplotlib.pyplot as plt\n",
    "import seaborn as sns\n",
    "import gc, math\n",
    "\n",
    "from pandas.tseries.holiday import USFederalHolidayCalendar as calendar\n",
    "from sklearn.metrics import mean_squared_error\n",
    "import lightgbm as lgb\n",
    "from sklearn.model_selection import KFold, StratifiedKFold, GroupKFold\n",
    "from tqdm import tqdm\n",
    "from sklearn.preprocessing import LabelEncoder"
   ]
  },
  {
   "cell_type": "code",
   "execution_count": 2,
   "metadata": {
    "execution": {
     "iopub.execute_input": "2023-12-12T12:54:18.277695Z",
     "iopub.status.busy": "2023-12-12T12:54:18.277337Z",
     "iopub.status.idle": "2023-12-12T12:54:18.286095Z",
     "shell.execute_reply": "2023-12-12T12:54:18.285067Z",
     "shell.execute_reply.started": "2023-12-12T12:54:18.277637Z"
    }
   },
   "outputs": [],
   "source": [
    "sns.set(rc={'figure.figsize':(11,8)})\n",
    "sns.set(style=\"whitegrid\")"
   ]
  },
  {
   "cell_type": "code",
   "execution_count": 3,
   "metadata": {
    "execution": {
     "iopub.execute_input": "2023-12-12T12:54:18.287979Z",
     "iopub.status.busy": "2023-12-12T12:54:18.287640Z",
     "iopub.status.idle": "2023-12-12T12:55:37.306017Z",
     "shell.execute_reply": "2023-12-12T12:55:37.304764Z",
     "shell.execute_reply.started": "2023-12-12T12:54:18.287929Z"
    }
   },
   "outputs": [
    {
     "name": "stdout",
     "output_type": "stream",
     "text": [
      "CPU times: user 49 s, sys: 6.38 s, total: 55.3 s\n",
      "Wall time: 1min 11s\n"
     ]
    }
   ],
   "source": [
    "%%time\n",
    "#in kaggle competition, if we want to run here, need to change the path of the data\n",
    "metadata_df = pd.read_csv('/kaggle/input/ashrae-energy-prediction/building_metadata.csv')\n",
    "train_df = pd.read_csv('/kaggle/input/ashrae-energy-prediction/train.csv', parse_dates=['timestamp'])\n",
    "test_df = pd.read_csv('/kaggle/input/ashrae-energy-prediction/test.csv', parse_dates=['timestamp'])\n",
    "weather_train_df = pd.read_csv('/kaggle/input/ashrae-energy-prediction/weather_train.csv', parse_dates=['timestamp'])\n",
    "weather_test_df = pd.read_csv('/kaggle/input/ashrae-energy-prediction/weather_test.csv', parse_dates=['timestamp'])"
   ]
  },
  {
   "cell_type": "code",
   "execution_count": 4,
   "metadata": {
    "execution": {
     "iopub.execute_input": "2023-12-12T12:55:37.308663Z",
     "iopub.status.busy": "2023-12-12T12:55:37.308193Z",
     "iopub.status.idle": "2023-12-12T12:55:37.336263Z",
     "shell.execute_reply": "2023-12-12T12:55:37.334763Z",
     "shell.execute_reply.started": "2023-12-12T12:55:37.308586Z"
    }
   },
   "outputs": [
    {
     "data": {
      "text/html": [
       "<div>\n",
       "<style scoped>\n",
       "    .dataframe tbody tr th:only-of-type {\n",
       "        vertical-align: middle;\n",
       "    }\n",
       "\n",
       "    .dataframe tbody tr th {\n",
       "        vertical-align: top;\n",
       "    }\n",
       "\n",
       "    .dataframe thead th {\n",
       "        text-align: right;\n",
       "    }\n",
       "</style>\n",
       "<table border=\"1\" class=\"dataframe\">\n",
       "  <thead>\n",
       "    <tr style=\"text-align: right;\">\n",
       "      <th></th>\n",
       "      <th>building_id</th>\n",
       "      <th>meter</th>\n",
       "      <th>timestamp</th>\n",
       "      <th>meter_reading</th>\n",
       "    </tr>\n",
       "  </thead>\n",
       "  <tbody>\n",
       "    <tr>\n",
       "      <td>0</td>\n",
       "      <td>0</td>\n",
       "      <td>0</td>\n",
       "      <td>2016-01-01</td>\n",
       "      <td>0.0</td>\n",
       "    </tr>\n",
       "    <tr>\n",
       "      <td>1</td>\n",
       "      <td>1</td>\n",
       "      <td>0</td>\n",
       "      <td>2016-01-01</td>\n",
       "      <td>0.0</td>\n",
       "    </tr>\n",
       "    <tr>\n",
       "      <td>2</td>\n",
       "      <td>2</td>\n",
       "      <td>0</td>\n",
       "      <td>2016-01-01</td>\n",
       "      <td>0.0</td>\n",
       "    </tr>\n",
       "    <tr>\n",
       "      <td>3</td>\n",
       "      <td>3</td>\n",
       "      <td>0</td>\n",
       "      <td>2016-01-01</td>\n",
       "      <td>0.0</td>\n",
       "    </tr>\n",
       "    <tr>\n",
       "      <td>4</td>\n",
       "      <td>4</td>\n",
       "      <td>0</td>\n",
       "      <td>2016-01-01</td>\n",
       "      <td>0.0</td>\n",
       "    </tr>\n",
       "  </tbody>\n",
       "</table>\n",
       "</div>"
      ],
      "text/plain": [
       "   building_id  meter  timestamp  meter_reading\n",
       "0            0      0 2016-01-01            0.0\n",
       "1            1      0 2016-01-01            0.0\n",
       "2            2      0 2016-01-01            0.0\n",
       "3            3      0 2016-01-01            0.0\n",
       "4            4      0 2016-01-01            0.0"
      ]
     },
     "execution_count": 4,
     "metadata": {},
     "output_type": "execute_result"
    }
   ],
   "source": [
    "train_df.head()"
   ]
  },
  {
   "cell_type": "code",
   "execution_count": 5,
   "metadata": {
    "execution": {
     "iopub.execute_input": "2023-12-12T12:55:37.342073Z",
     "iopub.status.busy": "2023-12-12T12:55:37.341700Z",
     "iopub.status.idle": "2023-12-12T12:55:37.348465Z",
     "shell.execute_reply": "2023-12-12T12:55:37.347491Z",
     "shell.execute_reply.started": "2023-12-12T12:55:37.342009Z"
    }
   },
   "outputs": [
    {
     "data": {
      "text/plain": [
       "(139773, 9)"
      ]
     },
     "execution_count": 5,
     "metadata": {},
     "output_type": "execute_result"
    }
   ],
   "source": [
    "weather_train_df.shape"
   ]
  },
  {
   "cell_type": "code",
   "execution_count": 6,
   "metadata": {
    "execution": {
     "iopub.execute_input": "2023-12-12T12:55:37.352680Z",
     "iopub.status.busy": "2023-12-12T12:55:37.351987Z",
     "iopub.status.idle": "2023-12-12T12:55:37.370670Z",
     "shell.execute_reply": "2023-12-12T12:55:37.369569Z",
     "shell.execute_reply.started": "2023-12-12T12:55:37.352618Z"
    }
   },
   "outputs": [
    {
     "data": {
      "text/html": [
       "<div>\n",
       "<style scoped>\n",
       "    .dataframe tbody tr th:only-of-type {\n",
       "        vertical-align: middle;\n",
       "    }\n",
       "\n",
       "    .dataframe tbody tr th {\n",
       "        vertical-align: top;\n",
       "    }\n",
       "\n",
       "    .dataframe thead th {\n",
       "        text-align: right;\n",
       "    }\n",
       "</style>\n",
       "<table border=\"1\" class=\"dataframe\">\n",
       "  <thead>\n",
       "    <tr style=\"text-align: right;\">\n",
       "      <th></th>\n",
       "      <th>row_id</th>\n",
       "      <th>building_id</th>\n",
       "      <th>meter</th>\n",
       "      <th>timestamp</th>\n",
       "    </tr>\n",
       "  </thead>\n",
       "  <tbody>\n",
       "    <tr>\n",
       "      <td>0</td>\n",
       "      <td>0</td>\n",
       "      <td>0</td>\n",
       "      <td>0</td>\n",
       "      <td>2017-01-01</td>\n",
       "    </tr>\n",
       "    <tr>\n",
       "      <td>1</td>\n",
       "      <td>1</td>\n",
       "      <td>1</td>\n",
       "      <td>0</td>\n",
       "      <td>2017-01-01</td>\n",
       "    </tr>\n",
       "    <tr>\n",
       "      <td>2</td>\n",
       "      <td>2</td>\n",
       "      <td>2</td>\n",
       "      <td>0</td>\n",
       "      <td>2017-01-01</td>\n",
       "    </tr>\n",
       "    <tr>\n",
       "      <td>3</td>\n",
       "      <td>3</td>\n",
       "      <td>3</td>\n",
       "      <td>0</td>\n",
       "      <td>2017-01-01</td>\n",
       "    </tr>\n",
       "    <tr>\n",
       "      <td>4</td>\n",
       "      <td>4</td>\n",
       "      <td>4</td>\n",
       "      <td>0</td>\n",
       "      <td>2017-01-01</td>\n",
       "    </tr>\n",
       "  </tbody>\n",
       "</table>\n",
       "</div>"
      ],
      "text/plain": [
       "   row_id  building_id  meter  timestamp\n",
       "0       0            0      0 2017-01-01\n",
       "1       1            1      0 2017-01-01\n",
       "2       2            2      0 2017-01-01\n",
       "3       3            3      0 2017-01-01\n",
       "4       4            4      0 2017-01-01"
      ]
     },
     "execution_count": 6,
     "metadata": {},
     "output_type": "execute_result"
    }
   ],
   "source": [
    "test_df.head()"
   ]
  },
  {
   "cell_type": "code",
   "execution_count": 7,
   "metadata": {
    "execution": {
     "iopub.execute_input": "2023-12-12T12:55:37.372786Z",
     "iopub.status.busy": "2023-12-12T12:55:37.372350Z",
     "iopub.status.idle": "2023-12-12T12:55:38.156900Z",
     "shell.execute_reply": "2023-12-12T12:55:38.155241Z",
     "shell.execute_reply.started": "2023-12-12T12:55:37.372721Z"
    }
   },
   "outputs": [],
   "source": [
    "weather = pd.concat([weather_train_df,weather_test_df],ignore_index=True)\n",
    "weather_key = ['site_id', 'timestamp']\n",
    "\n",
    "temp_skeleton = weather[weather_key + ['air_temperature']].drop_duplicates(subset=weather_key).sort_values(by=weather_key).copy()\n",
    "\n",
    "# calculate ranks of hourly temperatures within date/site_id chunks\n",
    "temp_skeleton['temp_rank'] = temp_skeleton.groupby(['site_id', temp_skeleton.timestamp.dt.date])['air_temperature'].rank('average')\n",
    "\n",
    "# create a dataframe of site_ids (0-16) x mean hour rank of temperature within day (0-23)\n",
    "df_2d = temp_skeleton.groupby(['site_id', temp_skeleton.timestamp.dt.hour])['temp_rank'].mean().unstack(level=1)\n",
    "\n",
    "# Subtract the columnID of temperature peak by 14, getting the timestamp alignment gap.\n",
    "site_ids_offsets = pd.Series(df_2d.values.argmax(axis=1) - 14)\n",
    "site_ids_offsets.index.name = 'site_id'\n",
    "\n",
    "def timestamp_align(df):\n",
    "    df['offset'] = df.site_id.map(site_ids_offsets)\n",
    "    df['timestamp_aligned'] = (df.timestamp - pd.to_timedelta(df.offset, unit='H'))\n",
    "    df['timestamp'] = df['timestamp_aligned']\n",
    "    del df['timestamp_aligned']\n",
    "    return df"
   ]
  },
  {
   "cell_type": "code",
   "execution_count": 8,
   "metadata": {
    "execution": {
     "iopub.execute_input": "2023-12-12T12:55:38.159519Z",
     "iopub.status.busy": "2023-12-12T12:55:38.159053Z",
     "iopub.status.idle": "2023-12-12T12:55:38.180143Z",
     "shell.execute_reply": "2023-12-12T12:55:38.178895Z",
     "shell.execute_reply.started": "2023-12-12T12:55:38.159439Z"
    }
   },
   "outputs": [
    {
     "data": {
      "text/html": [
       "<div>\n",
       "<style scoped>\n",
       "    .dataframe tbody tr th:only-of-type {\n",
       "        vertical-align: middle;\n",
       "    }\n",
       "\n",
       "    .dataframe tbody tr th {\n",
       "        vertical-align: top;\n",
       "    }\n",
       "\n",
       "    .dataframe thead th {\n",
       "        text-align: right;\n",
       "    }\n",
       "</style>\n",
       "<table border=\"1\" class=\"dataframe\">\n",
       "  <thead>\n",
       "    <tr style=\"text-align: right;\">\n",
       "      <th></th>\n",
       "      <th>site_id</th>\n",
       "      <th>timestamp</th>\n",
       "      <th>air_temperature</th>\n",
       "      <th>cloud_coverage</th>\n",
       "      <th>dew_temperature</th>\n",
       "      <th>precip_depth_1_hr</th>\n",
       "      <th>sea_level_pressure</th>\n",
       "      <th>wind_direction</th>\n",
       "      <th>wind_speed</th>\n",
       "    </tr>\n",
       "  </thead>\n",
       "  <tbody>\n",
       "    <tr>\n",
       "      <td>139768</td>\n",
       "      <td>15</td>\n",
       "      <td>2016-12-31 19:00:00</td>\n",
       "      <td>3.0</td>\n",
       "      <td>NaN</td>\n",
       "      <td>-8.0</td>\n",
       "      <td>NaN</td>\n",
       "      <td>NaN</td>\n",
       "      <td>180.0</td>\n",
       "      <td>5.7</td>\n",
       "    </tr>\n",
       "    <tr>\n",
       "      <td>139769</td>\n",
       "      <td>15</td>\n",
       "      <td>2016-12-31 20:00:00</td>\n",
       "      <td>2.8</td>\n",
       "      <td>2.0</td>\n",
       "      <td>-8.9</td>\n",
       "      <td>NaN</td>\n",
       "      <td>1007.4</td>\n",
       "      <td>180.0</td>\n",
       "      <td>7.7</td>\n",
       "    </tr>\n",
       "    <tr>\n",
       "      <td>139770</td>\n",
       "      <td>15</td>\n",
       "      <td>2016-12-31 21:00:00</td>\n",
       "      <td>2.8</td>\n",
       "      <td>NaN</td>\n",
       "      <td>-7.2</td>\n",
       "      <td>NaN</td>\n",
       "      <td>1007.5</td>\n",
       "      <td>180.0</td>\n",
       "      <td>5.1</td>\n",
       "    </tr>\n",
       "    <tr>\n",
       "      <td>139771</td>\n",
       "      <td>15</td>\n",
       "      <td>2016-12-31 22:00:00</td>\n",
       "      <td>2.2</td>\n",
       "      <td>NaN</td>\n",
       "      <td>-6.7</td>\n",
       "      <td>NaN</td>\n",
       "      <td>1008.0</td>\n",
       "      <td>170.0</td>\n",
       "      <td>4.6</td>\n",
       "    </tr>\n",
       "    <tr>\n",
       "      <td>139772</td>\n",
       "      <td>15</td>\n",
       "      <td>2016-12-31 23:00:00</td>\n",
       "      <td>1.7</td>\n",
       "      <td>NaN</td>\n",
       "      <td>-5.6</td>\n",
       "      <td>-1.0</td>\n",
       "      <td>1008.5</td>\n",
       "      <td>180.0</td>\n",
       "      <td>8.8</td>\n",
       "    </tr>\n",
       "  </tbody>\n",
       "</table>\n",
       "</div>"
      ],
      "text/plain": [
       "        site_id           timestamp  air_temperature  cloud_coverage  \\\n",
       "139768       15 2016-12-31 19:00:00              3.0             NaN   \n",
       "139769       15 2016-12-31 20:00:00              2.8             2.0   \n",
       "139770       15 2016-12-31 21:00:00              2.8             NaN   \n",
       "139771       15 2016-12-31 22:00:00              2.2             NaN   \n",
       "139772       15 2016-12-31 23:00:00              1.7             NaN   \n",
       "\n",
       "        dew_temperature  precip_depth_1_hr  sea_level_pressure  \\\n",
       "139768             -8.0                NaN                 NaN   \n",
       "139769             -8.9                NaN              1007.4   \n",
       "139770             -7.2                NaN              1007.5   \n",
       "139771             -6.7                NaN              1008.0   \n",
       "139772             -5.6               -1.0              1008.5   \n",
       "\n",
       "        wind_direction  wind_speed  \n",
       "139768           180.0         5.7  \n",
       "139769           180.0         7.7  \n",
       "139770           180.0         5.1  \n",
       "139771           170.0         4.6  \n",
       "139772           180.0         8.8  "
      ]
     },
     "execution_count": 8,
     "metadata": {},
     "output_type": "execute_result"
    }
   ],
   "source": [
    "weather_train_df.tail()"
   ]
  },
  {
   "cell_type": "code",
   "execution_count": 9,
   "metadata": {
    "execution": {
     "iopub.execute_input": "2023-12-12T12:55:38.182578Z",
     "iopub.status.busy": "2023-12-12T12:55:38.182067Z",
     "iopub.status.idle": "2023-12-12T12:55:38.224949Z",
     "shell.execute_reply": "2023-12-12T12:55:38.224071Z",
     "shell.execute_reply.started": "2023-12-12T12:55:38.182496Z"
    }
   },
   "outputs": [],
   "source": [
    "weather_train_df = timestamp_align(weather_train_df)\n",
    "weather_test_df = timestamp_align(weather_test_df)"
   ]
  },
  {
   "cell_type": "code",
   "execution_count": 10,
   "metadata": {
    "execution": {
     "iopub.execute_input": "2023-12-12T12:55:38.227240Z",
     "iopub.status.busy": "2023-12-12T12:55:38.226572Z",
     "iopub.status.idle": "2023-12-12T12:55:38.235086Z",
     "shell.execute_reply": "2023-12-12T12:55:38.233813Z",
     "shell.execute_reply.started": "2023-12-12T12:55:38.227171Z"
    }
   },
   "outputs": [],
   "source": [
    "del weather \n",
    "del df_2d\n",
    "del temp_skeleton\n",
    "del site_ids_offsets"
   ]
  },
  {
   "cell_type": "code",
   "execution_count": 11,
   "metadata": {
    "execution": {
     "iopub.execute_input": "2023-12-12T12:55:38.237352Z",
     "iopub.status.busy": "2023-12-12T12:55:38.236909Z",
     "iopub.status.idle": "2023-12-12T12:55:38.265744Z",
     "shell.execute_reply": "2023-12-12T12:55:38.263914Z",
     "shell.execute_reply.started": "2023-12-12T12:55:38.237278Z"
    }
   },
   "outputs": [
    {
     "data": {
      "text/html": [
       "<div>\n",
       "<style scoped>\n",
       "    .dataframe tbody tr th:only-of-type {\n",
       "        vertical-align: middle;\n",
       "    }\n",
       "\n",
       "    .dataframe tbody tr th {\n",
       "        vertical-align: top;\n",
       "    }\n",
       "\n",
       "    .dataframe thead th {\n",
       "        text-align: right;\n",
       "    }\n",
       "</style>\n",
       "<table border=\"1\" class=\"dataframe\">\n",
       "  <thead>\n",
       "    <tr style=\"text-align: right;\">\n",
       "      <th></th>\n",
       "      <th>site_id</th>\n",
       "      <th>timestamp</th>\n",
       "      <th>air_temperature</th>\n",
       "      <th>cloud_coverage</th>\n",
       "      <th>dew_temperature</th>\n",
       "      <th>precip_depth_1_hr</th>\n",
       "      <th>sea_level_pressure</th>\n",
       "      <th>wind_direction</th>\n",
       "      <th>wind_speed</th>\n",
       "      <th>offset</th>\n",
       "    </tr>\n",
       "  </thead>\n",
       "  <tbody>\n",
       "    <tr>\n",
       "      <td>139768</td>\n",
       "      <td>15</td>\n",
       "      <td>2016-12-31 13:00:00</td>\n",
       "      <td>3.0</td>\n",
       "      <td>NaN</td>\n",
       "      <td>-8.0</td>\n",
       "      <td>NaN</td>\n",
       "      <td>NaN</td>\n",
       "      <td>180.0</td>\n",
       "      <td>5.7</td>\n",
       "      <td>6</td>\n",
       "    </tr>\n",
       "    <tr>\n",
       "      <td>139769</td>\n",
       "      <td>15</td>\n",
       "      <td>2016-12-31 14:00:00</td>\n",
       "      <td>2.8</td>\n",
       "      <td>2.0</td>\n",
       "      <td>-8.9</td>\n",
       "      <td>NaN</td>\n",
       "      <td>1007.4</td>\n",
       "      <td>180.0</td>\n",
       "      <td>7.7</td>\n",
       "      <td>6</td>\n",
       "    </tr>\n",
       "    <tr>\n",
       "      <td>139770</td>\n",
       "      <td>15</td>\n",
       "      <td>2016-12-31 15:00:00</td>\n",
       "      <td>2.8</td>\n",
       "      <td>NaN</td>\n",
       "      <td>-7.2</td>\n",
       "      <td>NaN</td>\n",
       "      <td>1007.5</td>\n",
       "      <td>180.0</td>\n",
       "      <td>5.1</td>\n",
       "      <td>6</td>\n",
       "    </tr>\n",
       "    <tr>\n",
       "      <td>139771</td>\n",
       "      <td>15</td>\n",
       "      <td>2016-12-31 16:00:00</td>\n",
       "      <td>2.2</td>\n",
       "      <td>NaN</td>\n",
       "      <td>-6.7</td>\n",
       "      <td>NaN</td>\n",
       "      <td>1008.0</td>\n",
       "      <td>170.0</td>\n",
       "      <td>4.6</td>\n",
       "      <td>6</td>\n",
       "    </tr>\n",
       "    <tr>\n",
       "      <td>139772</td>\n",
       "      <td>15</td>\n",
       "      <td>2016-12-31 17:00:00</td>\n",
       "      <td>1.7</td>\n",
       "      <td>NaN</td>\n",
       "      <td>-5.6</td>\n",
       "      <td>-1.0</td>\n",
       "      <td>1008.5</td>\n",
       "      <td>180.0</td>\n",
       "      <td>8.8</td>\n",
       "      <td>6</td>\n",
       "    </tr>\n",
       "  </tbody>\n",
       "</table>\n",
       "</div>"
      ],
      "text/plain": [
       "        site_id           timestamp  air_temperature  cloud_coverage  \\\n",
       "139768       15 2016-12-31 13:00:00              3.0             NaN   \n",
       "139769       15 2016-12-31 14:00:00              2.8             2.0   \n",
       "139770       15 2016-12-31 15:00:00              2.8             NaN   \n",
       "139771       15 2016-12-31 16:00:00              2.2             NaN   \n",
       "139772       15 2016-12-31 17:00:00              1.7             NaN   \n",
       "\n",
       "        dew_temperature  precip_depth_1_hr  sea_level_pressure  \\\n",
       "139768             -8.0                NaN                 NaN   \n",
       "139769             -8.9                NaN              1007.4   \n",
       "139770             -7.2                NaN              1007.5   \n",
       "139771             -6.7                NaN              1008.0   \n",
       "139772             -5.6               -1.0              1008.5   \n",
       "\n",
       "        wind_direction  wind_speed  offset  \n",
       "139768           180.0         5.7       6  \n",
       "139769           180.0         7.7       6  \n",
       "139770           180.0         5.1       6  \n",
       "139771           170.0         4.6       6  \n",
       "139772           180.0         8.8       6  "
      ]
     },
     "execution_count": 11,
     "metadata": {},
     "output_type": "execute_result"
    }
   ],
   "source": [
    "weather_train_df.tail()"
   ]
  },
  {
   "cell_type": "markdown",
   "metadata": {},
   "source": [
    "### Fill NaNs in weather data by interpolation"
   ]
  },
  {
   "cell_type": "code",
   "execution_count": 12,
   "metadata": {
    "execution": {
     "iopub.execute_input": "2023-12-12T12:55:38.268379Z",
     "iopub.status.busy": "2023-12-12T12:55:38.267799Z",
     "iopub.status.idle": "2023-12-12T12:55:38.285633Z",
     "shell.execute_reply": "2023-12-12T12:55:38.284279Z",
     "shell.execute_reply.started": "2023-12-12T12:55:38.268310Z"
    }
   },
   "outputs": [
    {
     "data": {
      "text/plain": [
       "site_id                   0\n",
       "timestamp                 0\n",
       "air_temperature          55\n",
       "cloud_coverage        69173\n",
       "dew_temperature         113\n",
       "precip_depth_1_hr     50289\n",
       "sea_level_pressure    10618\n",
       "wind_direction         6268\n",
       "wind_speed              304\n",
       "offset                    0\n",
       "dtype: int64"
      ]
     },
     "execution_count": 12,
     "metadata": {},
     "output_type": "execute_result"
    }
   ],
   "source": [
    "weather_train_df.isna().sum()"
   ]
  },
  {
   "cell_type": "code",
   "execution_count": 13,
   "metadata": {
    "execution": {
     "iopub.execute_input": "2023-12-12T12:55:38.287728Z",
     "iopub.status.busy": "2023-12-12T12:55:38.287354Z",
     "iopub.status.idle": "2023-12-12T12:55:38.306891Z",
     "shell.execute_reply": "2023-12-12T12:55:38.305760Z",
     "shell.execute_reply.started": "2023-12-12T12:55:38.287664Z"
    }
   },
   "outputs": [
    {
     "data": {
      "text/plain": [
       "site_id                    0\n",
       "timestamp                  0\n",
       "air_temperature          104\n",
       "cloud_coverage        140448\n",
       "dew_temperature          327\n",
       "precip_depth_1_hr      95588\n",
       "sea_level_pressure     21265\n",
       "wind_direction         12370\n",
       "wind_speed               460\n",
       "offset                     0\n",
       "dtype: int64"
      ]
     },
     "execution_count": 13,
     "metadata": {},
     "output_type": "execute_result"
    }
   ],
   "source": [
    "weather_test_df.isna().sum()"
   ]
  },
  {
   "cell_type": "code",
   "execution_count": 14,
   "metadata": {
    "execution": {
     "iopub.execute_input": "2023-12-12T12:55:38.308843Z",
     "iopub.status.busy": "2023-12-12T12:55:38.308514Z",
     "iopub.status.idle": "2023-12-12T12:55:54.514956Z",
     "shell.execute_reply": "2023-12-12T12:55:54.513995Z",
     "shell.execute_reply.started": "2023-12-12T12:55:38.308784Z"
    }
   },
   "outputs": [],
   "source": [
    "weather_train_df = weather_train_df.groupby('site_id').apply(lambda group: group.interpolate(limit_direction='both'))"
   ]
  },
  {
   "cell_type": "code",
   "execution_count": 15,
   "metadata": {
    "execution": {
     "iopub.execute_input": "2023-12-12T12:55:54.517268Z",
     "iopub.status.busy": "2023-12-12T12:55:54.516613Z",
     "iopub.status.idle": "2023-12-12T12:56:27.082187Z",
     "shell.execute_reply": "2023-12-12T12:56:27.081179Z",
     "shell.execute_reply.started": "2023-12-12T12:55:54.517196Z"
    }
   },
   "outputs": [],
   "source": [
    "weather_test_df = weather_test_df.groupby('site_id').apply(lambda group: group.interpolate(limit_direction='both'))"
   ]
  },
  {
   "cell_type": "code",
   "execution_count": 16,
   "metadata": {
    "execution": {
     "iopub.execute_input": "2023-12-12T12:56:27.084310Z",
     "iopub.status.busy": "2023-12-12T12:56:27.083748Z",
     "iopub.status.idle": "2023-12-12T12:56:27.098803Z",
     "shell.execute_reply": "2023-12-12T12:56:27.097275Z",
     "shell.execute_reply.started": "2023-12-12T12:56:27.084230Z"
    }
   },
   "outputs": [
    {
     "data": {
      "text/plain": [
       "site_id                   0\n",
       "timestamp                 0\n",
       "air_temperature           0\n",
       "cloud_coverage        17228\n",
       "dew_temperature           0\n",
       "precip_depth_1_hr     26273\n",
       "sea_level_pressure     8755\n",
       "wind_direction            0\n",
       "wind_speed                0\n",
       "offset                    0\n",
       "dtype: int64"
      ]
     },
     "execution_count": 16,
     "metadata": {},
     "output_type": "execute_result"
    }
   ],
   "source": [
    "weather_train_df.isna().sum()"
   ]
  },
  {
   "cell_type": "code",
   "execution_count": 17,
   "metadata": {
    "execution": {
     "iopub.execute_input": "2023-12-12T12:56:27.101599Z",
     "iopub.status.busy": "2023-12-12T12:56:27.101119Z",
     "iopub.status.idle": "2023-12-12T12:56:27.120704Z",
     "shell.execute_reply": "2023-12-12T12:56:27.119578Z",
     "shell.execute_reply.started": "2023-12-12T12:56:27.101518Z"
    }
   },
   "outputs": [
    {
     "data": {
      "text/plain": [
       "site_id                   0\n",
       "timestamp                 0\n",
       "air_temperature           0\n",
       "cloud_coverage        33146\n",
       "dew_temperature           0\n",
       "precip_depth_1_hr     51807\n",
       "sea_level_pressure    17241\n",
       "wind_direction            0\n",
       "wind_speed                0\n",
       "offset                    0\n",
       "dtype: int64"
      ]
     },
     "execution_count": 17,
     "metadata": {},
     "output_type": "execute_result"
    }
   ],
   "source": [
    "weather_test_df.isna().sum()"
   ]
  },
  {
   "cell_type": "code",
   "execution_count": 18,
   "metadata": {
    "execution": {
     "iopub.execute_input": "2023-12-12T12:56:27.122807Z",
     "iopub.status.busy": "2023-12-12T12:56:27.122494Z",
     "iopub.status.idle": "2023-12-12T12:56:27.348744Z",
     "shell.execute_reply": "2023-12-12T12:56:27.346242Z",
     "shell.execute_reply.started": "2023-12-12T12:56:27.122757Z"
    }
   },
   "outputs": [],
   "source": [
    "train_df['meter_reading'] = np.log1p(train_df['meter_reading'])"
   ]
  },
  {
   "cell_type": "code",
   "execution_count": 19,
   "metadata": {
    "execution": {
     "iopub.execute_input": "2023-12-12T12:56:27.351593Z",
     "iopub.status.busy": "2023-12-12T12:56:27.351072Z",
     "iopub.status.idle": "2023-12-12T12:56:27.374449Z",
     "shell.execute_reply": "2023-12-12T12:56:27.373572Z",
     "shell.execute_reply.started": "2023-12-12T12:56:27.351505Z"
    }
   },
   "outputs": [
    {
     "data": {
      "text/html": [
       "<div>\n",
       "<style scoped>\n",
       "    .dataframe tbody tr th:only-of-type {\n",
       "        vertical-align: middle;\n",
       "    }\n",
       "\n",
       "    .dataframe tbody tr th {\n",
       "        vertical-align: top;\n",
       "    }\n",
       "\n",
       "    .dataframe thead th {\n",
       "        text-align: right;\n",
       "    }\n",
       "</style>\n",
       "<table border=\"1\" class=\"dataframe\">\n",
       "  <thead>\n",
       "    <tr style=\"text-align: right;\">\n",
       "      <th></th>\n",
       "      <th>site_id</th>\n",
       "      <th>timestamp</th>\n",
       "      <th>air_temperature</th>\n",
       "      <th>cloud_coverage</th>\n",
       "      <th>dew_temperature</th>\n",
       "      <th>precip_depth_1_hr</th>\n",
       "      <th>sea_level_pressure</th>\n",
       "      <th>wind_direction</th>\n",
       "      <th>wind_speed</th>\n",
       "      <th>offset</th>\n",
       "    </tr>\n",
       "  </thead>\n",
       "  <tbody>\n",
       "    <tr>\n",
       "      <td>0</td>\n",
       "      <td>0</td>\n",
       "      <td>2015-12-31 19:00:00</td>\n",
       "      <td>25.0</td>\n",
       "      <td>6.0</td>\n",
       "      <td>20.0</td>\n",
       "      <td>-1.0</td>\n",
       "      <td>1019.7</td>\n",
       "      <td>0.0</td>\n",
       "      <td>0.0</td>\n",
       "      <td>5</td>\n",
       "    </tr>\n",
       "    <tr>\n",
       "      <td>1</td>\n",
       "      <td>0</td>\n",
       "      <td>2015-12-31 20:00:00</td>\n",
       "      <td>24.4</td>\n",
       "      <td>4.0</td>\n",
       "      <td>21.1</td>\n",
       "      <td>-1.0</td>\n",
       "      <td>1020.2</td>\n",
       "      <td>70.0</td>\n",
       "      <td>1.5</td>\n",
       "      <td>5</td>\n",
       "    </tr>\n",
       "    <tr>\n",
       "      <td>2</td>\n",
       "      <td>0</td>\n",
       "      <td>2015-12-31 21:00:00</td>\n",
       "      <td>22.8</td>\n",
       "      <td>2.0</td>\n",
       "      <td>21.1</td>\n",
       "      <td>0.0</td>\n",
       "      <td>1020.2</td>\n",
       "      <td>0.0</td>\n",
       "      <td>0.0</td>\n",
       "      <td>5</td>\n",
       "    </tr>\n",
       "    <tr>\n",
       "      <td>3</td>\n",
       "      <td>0</td>\n",
       "      <td>2015-12-31 22:00:00</td>\n",
       "      <td>21.1</td>\n",
       "      <td>2.0</td>\n",
       "      <td>20.6</td>\n",
       "      <td>0.0</td>\n",
       "      <td>1020.1</td>\n",
       "      <td>0.0</td>\n",
       "      <td>0.0</td>\n",
       "      <td>5</td>\n",
       "    </tr>\n",
       "    <tr>\n",
       "      <td>4</td>\n",
       "      <td>0</td>\n",
       "      <td>2015-12-31 23:00:00</td>\n",
       "      <td>20.0</td>\n",
       "      <td>2.0</td>\n",
       "      <td>20.0</td>\n",
       "      <td>-1.0</td>\n",
       "      <td>1020.0</td>\n",
       "      <td>250.0</td>\n",
       "      <td>2.6</td>\n",
       "      <td>5</td>\n",
       "    </tr>\n",
       "  </tbody>\n",
       "</table>\n",
       "</div>"
      ],
      "text/plain": [
       "   site_id           timestamp  air_temperature  cloud_coverage  \\\n",
       "0        0 2015-12-31 19:00:00             25.0             6.0   \n",
       "1        0 2015-12-31 20:00:00             24.4             4.0   \n",
       "2        0 2015-12-31 21:00:00             22.8             2.0   \n",
       "3        0 2015-12-31 22:00:00             21.1             2.0   \n",
       "4        0 2015-12-31 23:00:00             20.0             2.0   \n",
       "\n",
       "   dew_temperature  precip_depth_1_hr  sea_level_pressure  wind_direction  \\\n",
       "0             20.0               -1.0              1019.7             0.0   \n",
       "1             21.1               -1.0              1020.2            70.0   \n",
       "2             21.1                0.0              1020.2             0.0   \n",
       "3             20.6                0.0              1020.1             0.0   \n",
       "4             20.0               -1.0              1020.0           250.0   \n",
       "\n",
       "   wind_speed  offset  \n",
       "0         0.0       5  \n",
       "1         1.5       5  \n",
       "2         0.0       5  \n",
       "3         0.0       5  \n",
       "4         2.6       5  "
      ]
     },
     "execution_count": 19,
     "metadata": {},
     "output_type": "execute_result"
    }
   ],
   "source": [
    "weather_train_df.head()"
   ]
  },
  {
   "cell_type": "code",
   "execution_count": 20,
   "metadata": {
    "execution": {
     "iopub.execute_input": "2023-12-12T12:56:27.376214Z",
     "iopub.status.busy": "2023-12-12T12:56:27.375756Z",
     "iopub.status.idle": "2023-12-12T12:56:27.397774Z",
     "shell.execute_reply": "2023-12-12T12:56:27.396461Z",
     "shell.execute_reply.started": "2023-12-12T12:56:27.376166Z"
    }
   },
   "outputs": [],
   "source": [
    "## Function to reduce the memory usage\n",
    "def reduce_mem_usage(df, verbose=True):\n",
    "    numerics = ['int16', 'int32', 'int64', 'float16', 'float32', 'float64']\n",
    "    start_mem = df.memory_usage().sum() / 1024**2    \n",
    "    for col in df.columns:\n",
    "        col_type = df[col].dtypes\n",
    "        if col_type in numerics:\n",
    "            c_min = df[col].min()\n",
    "            c_max = df[col].max()\n",
    "            if str(col_type)[:3] == 'int':\n",
    "                if c_min > np.iinfo(np.int8).min and c_max < np.iinfo(np.int8).max:\n",
    "                    df[col] = df[col].astype(np.int8)\n",
    "                elif c_min > np.iinfo(np.int16).min and c_max < np.iinfo(np.int16).max:\n",
    "                    df[col] = df[col].astype(np.int16)\n",
    "                elif c_min > np.iinfo(np.int32).min and c_max < np.iinfo(np.int32).max:\n",
    "                    df[col] = df[col].astype(np.int32)\n",
    "                elif c_min > np.iinfo(np.int64).min and c_max < np.iinfo(np.int64).max:\n",
    "                    df[col] = df[col].astype(np.int64)  \n",
    "            else:\n",
    "                if c_min > np.finfo(np.float16).min and c_max < np.finfo(np.float16).max:\n",
    "                    df[col] = df[col].astype(np.float16)\n",
    "                elif c_min > np.finfo(np.float32).min and c_max < np.finfo(np.float32).max:\n",
    "                    df[col] = df[col].astype(np.float32)\n",
    "                else:\n",
    "                    df[col] = df[col].astype(np.float64)    \n",
    "    end_mem = df.memory_usage().sum() / 1024**2\n",
    "    if verbose: print('Mem. usage decreased to {:5.2f} Mb ({:.1f}% reduction)'.format(end_mem, 100 * (start_mem - end_mem) / start_mem))\n",
    "    return df"
   ]
  },
  {
   "cell_type": "code",
   "execution_count": 21,
   "metadata": {
    "execution": {
     "iopub.execute_input": "2023-12-12T12:56:27.399929Z",
     "iopub.status.busy": "2023-12-12T12:56:27.399481Z",
     "iopub.status.idle": "2023-12-12T12:56:27.419898Z",
     "shell.execute_reply": "2023-12-12T12:56:27.418879Z",
     "shell.execute_reply.started": "2023-12-12T12:56:27.399854Z"
    }
   },
   "outputs": [],
   "source": [
    "le = LabelEncoder()\n",
    "metadata_df['primary_use'] = le.fit_transform(metadata_df['primary_use'])"
   ]
  },
  {
   "cell_type": "code",
   "execution_count": 22,
   "metadata": {
    "execution": {
     "iopub.execute_input": "2023-12-12T12:56:27.422819Z",
     "iopub.status.busy": "2023-12-12T12:56:27.422083Z",
     "iopub.status.idle": "2023-12-12T12:56:29.290460Z",
     "shell.execute_reply": "2023-12-12T12:56:29.289306Z",
     "shell.execute_reply.started": "2023-12-12T12:56:27.422741Z"
    }
   },
   "outputs": [
    {
     "name": "stdout",
     "output_type": "stream",
     "text": [
      "Mem. usage decreased to  0.02 Mb (74.9% reduction)\n",
      "Mem. usage decreased to 250.63 Mb (59.4% reduction)\n",
      "Mem. usage decreased to 596.49 Mb (53.1% reduction)\n",
      "Mem. usage decreased to  3.20 Mb (70.0% reduction)\n",
      "Mem. usage decreased to  6.35 Mb (70.0% reduction)\n"
     ]
    }
   ],
   "source": [
    "metadata_df = reduce_mem_usage(metadata_df)\n",
    "train_df = reduce_mem_usage(train_df)\n",
    "test_df = reduce_mem_usage(test_df)\n",
    "weather_train_df = reduce_mem_usage(weather_train_df)\n",
    "weather_test_df = reduce_mem_usage(weather_test_df)"
   ]
  },
  {
   "cell_type": "markdown",
   "metadata": {},
   "source": [
    "#### Get insights of shapes and first few data rows of all the files"
   ]
  },
  {
   "cell_type": "code",
   "execution_count": 23,
   "metadata": {
    "execution": {
     "iopub.execute_input": "2023-12-12T12:56:29.292868Z",
     "iopub.status.busy": "2023-12-12T12:56:29.292345Z",
     "iopub.status.idle": "2023-12-12T12:56:29.303997Z",
     "shell.execute_reply": "2023-12-12T12:56:29.301871Z",
     "shell.execute_reply.started": "2023-12-12T12:56:29.292707Z"
    }
   },
   "outputs": [
    {
     "name": "stdout",
     "output_type": "stream",
     "text": [
      "Training data shape: (20216100, 4)\n",
      "Weather training shape: (139773, 10)\n",
      "Weather training shape: (277243, 10)\n",
      "Weather testing shape: (1449, 6)\n",
      "Test data shape: (41697600, 4)\n"
     ]
    }
   ],
   "source": [
    "print (f'Training data shape: {train_df.shape}')\n",
    "print (f'Weather training shape: {weather_train_df.shape}')\n",
    "print (f'Weather training shape: {weather_test_df.shape}')\n",
    "print (f'Weather testing shape: {metadata_df.shape}')\n",
    "print (f'Test data shape: {test_df.shape}')"
   ]
  },
  {
   "cell_type": "code",
   "execution_count": 24,
   "metadata": {
    "execution": {
     "iopub.execute_input": "2023-12-12T12:56:29.306782Z",
     "iopub.status.busy": "2023-12-12T12:56:29.306115Z",
     "iopub.status.idle": "2023-12-12T12:56:29.333515Z",
     "shell.execute_reply": "2023-12-12T12:56:29.332457Z",
     "shell.execute_reply.started": "2023-12-12T12:56:29.306708Z"
    }
   },
   "outputs": [
    {
     "data": {
      "text/html": [
       "<div>\n",
       "<style scoped>\n",
       "    .dataframe tbody tr th:only-of-type {\n",
       "        vertical-align: middle;\n",
       "    }\n",
       "\n",
       "    .dataframe tbody tr th {\n",
       "        vertical-align: top;\n",
       "    }\n",
       "\n",
       "    .dataframe thead th {\n",
       "        text-align: right;\n",
       "    }\n",
       "</style>\n",
       "<table border=\"1\" class=\"dataframe\">\n",
       "  <thead>\n",
       "    <tr style=\"text-align: right;\">\n",
       "      <th></th>\n",
       "      <th>building_id</th>\n",
       "      <th>meter</th>\n",
       "      <th>timestamp</th>\n",
       "      <th>meter_reading</th>\n",
       "    </tr>\n",
       "  </thead>\n",
       "  <tbody>\n",
       "    <tr>\n",
       "      <td>0</td>\n",
       "      <td>0</td>\n",
       "      <td>0</td>\n",
       "      <td>2016-01-01</td>\n",
       "      <td>0.0</td>\n",
       "    </tr>\n",
       "    <tr>\n",
       "      <td>1</td>\n",
       "      <td>1</td>\n",
       "      <td>0</td>\n",
       "      <td>2016-01-01</td>\n",
       "      <td>0.0</td>\n",
       "    </tr>\n",
       "    <tr>\n",
       "      <td>2</td>\n",
       "      <td>2</td>\n",
       "      <td>0</td>\n",
       "      <td>2016-01-01</td>\n",
       "      <td>0.0</td>\n",
       "    </tr>\n",
       "    <tr>\n",
       "      <td>3</td>\n",
       "      <td>3</td>\n",
       "      <td>0</td>\n",
       "      <td>2016-01-01</td>\n",
       "      <td>0.0</td>\n",
       "    </tr>\n",
       "    <tr>\n",
       "      <td>4</td>\n",
       "      <td>4</td>\n",
       "      <td>0</td>\n",
       "      <td>2016-01-01</td>\n",
       "      <td>0.0</td>\n",
       "    </tr>\n",
       "  </tbody>\n",
       "</table>\n",
       "</div>"
      ],
      "text/plain": [
       "   building_id  meter  timestamp  meter_reading\n",
       "0            0      0 2016-01-01            0.0\n",
       "1            1      0 2016-01-01            0.0\n",
       "2            2      0 2016-01-01            0.0\n",
       "3            3      0 2016-01-01            0.0\n",
       "4            4      0 2016-01-01            0.0"
      ]
     },
     "execution_count": 24,
     "metadata": {},
     "output_type": "execute_result"
    }
   ],
   "source": [
    "train_df.head()"
   ]
  },
  {
   "cell_type": "code",
   "execution_count": 25,
   "metadata": {
    "execution": {
     "iopub.execute_input": "2023-12-12T12:56:29.336290Z",
     "iopub.status.busy": "2023-12-12T12:56:29.335265Z",
     "iopub.status.idle": "2023-12-12T12:56:29.365851Z",
     "shell.execute_reply": "2023-12-12T12:56:29.364548Z",
     "shell.execute_reply.started": "2023-12-12T12:56:29.336158Z"
    }
   },
   "outputs": [
    {
     "data": {
      "text/html": [
       "<div>\n",
       "<style scoped>\n",
       "    .dataframe tbody tr th:only-of-type {\n",
       "        vertical-align: middle;\n",
       "    }\n",
       "\n",
       "    .dataframe tbody tr th {\n",
       "        vertical-align: top;\n",
       "    }\n",
       "\n",
       "    .dataframe thead th {\n",
       "        text-align: right;\n",
       "    }\n",
       "</style>\n",
       "<table border=\"1\" class=\"dataframe\">\n",
       "  <thead>\n",
       "    <tr style=\"text-align: right;\">\n",
       "      <th></th>\n",
       "      <th>site_id</th>\n",
       "      <th>timestamp</th>\n",
       "      <th>air_temperature</th>\n",
       "      <th>cloud_coverage</th>\n",
       "      <th>dew_temperature</th>\n",
       "      <th>precip_depth_1_hr</th>\n",
       "      <th>sea_level_pressure</th>\n",
       "      <th>wind_direction</th>\n",
       "      <th>wind_speed</th>\n",
       "      <th>offset</th>\n",
       "    </tr>\n",
       "  </thead>\n",
       "  <tbody>\n",
       "    <tr>\n",
       "      <td>0</td>\n",
       "      <td>0</td>\n",
       "      <td>2015-12-31 19:00:00</td>\n",
       "      <td>25.000000</td>\n",
       "      <td>6.0</td>\n",
       "      <td>20.00000</td>\n",
       "      <td>-1.0</td>\n",
       "      <td>1019.5</td>\n",
       "      <td>0.0</td>\n",
       "      <td>0.000000</td>\n",
       "      <td>5</td>\n",
       "    </tr>\n",
       "    <tr>\n",
       "      <td>1</td>\n",
       "      <td>0</td>\n",
       "      <td>2015-12-31 20:00:00</td>\n",
       "      <td>24.406250</td>\n",
       "      <td>4.0</td>\n",
       "      <td>21.09375</td>\n",
       "      <td>-1.0</td>\n",
       "      <td>1020.0</td>\n",
       "      <td>70.0</td>\n",
       "      <td>1.500000</td>\n",
       "      <td>5</td>\n",
       "    </tr>\n",
       "    <tr>\n",
       "      <td>2</td>\n",
       "      <td>0</td>\n",
       "      <td>2015-12-31 21:00:00</td>\n",
       "      <td>22.796875</td>\n",
       "      <td>2.0</td>\n",
       "      <td>21.09375</td>\n",
       "      <td>0.0</td>\n",
       "      <td>1020.0</td>\n",
       "      <td>0.0</td>\n",
       "      <td>0.000000</td>\n",
       "      <td>5</td>\n",
       "    </tr>\n",
       "    <tr>\n",
       "      <td>3</td>\n",
       "      <td>0</td>\n",
       "      <td>2015-12-31 22:00:00</td>\n",
       "      <td>21.093750</td>\n",
       "      <td>2.0</td>\n",
       "      <td>20.59375</td>\n",
       "      <td>0.0</td>\n",
       "      <td>1020.0</td>\n",
       "      <td>0.0</td>\n",
       "      <td>0.000000</td>\n",
       "      <td>5</td>\n",
       "    </tr>\n",
       "    <tr>\n",
       "      <td>4</td>\n",
       "      <td>0</td>\n",
       "      <td>2015-12-31 23:00:00</td>\n",
       "      <td>20.000000</td>\n",
       "      <td>2.0</td>\n",
       "      <td>20.00000</td>\n",
       "      <td>-1.0</td>\n",
       "      <td>1020.0</td>\n",
       "      <td>250.0</td>\n",
       "      <td>2.599609</td>\n",
       "      <td>5</td>\n",
       "    </tr>\n",
       "  </tbody>\n",
       "</table>\n",
       "</div>"
      ],
      "text/plain": [
       "   site_id           timestamp  air_temperature  cloud_coverage  \\\n",
       "0        0 2015-12-31 19:00:00        25.000000             6.0   \n",
       "1        0 2015-12-31 20:00:00        24.406250             4.0   \n",
       "2        0 2015-12-31 21:00:00        22.796875             2.0   \n",
       "3        0 2015-12-31 22:00:00        21.093750             2.0   \n",
       "4        0 2015-12-31 23:00:00        20.000000             2.0   \n",
       "\n",
       "   dew_temperature  precip_depth_1_hr  sea_level_pressure  wind_direction  \\\n",
       "0         20.00000               -1.0              1019.5             0.0   \n",
       "1         21.09375               -1.0              1020.0            70.0   \n",
       "2         21.09375                0.0              1020.0             0.0   \n",
       "3         20.59375                0.0              1020.0             0.0   \n",
       "4         20.00000               -1.0              1020.0           250.0   \n",
       "\n",
       "   wind_speed  offset  \n",
       "0    0.000000       5  \n",
       "1    1.500000       5  \n",
       "2    0.000000       5  \n",
       "3    0.000000       5  \n",
       "4    2.599609       5  "
      ]
     },
     "execution_count": 25,
     "metadata": {},
     "output_type": "execute_result"
    }
   ],
   "source": [
    "weather_train_df.head()"
   ]
  },
  {
   "cell_type": "code",
   "execution_count": 26,
   "metadata": {
    "execution": {
     "iopub.execute_input": "2023-12-12T12:56:29.368708Z",
     "iopub.status.busy": "2023-12-12T12:56:29.368221Z",
     "iopub.status.idle": "2023-12-12T12:56:29.389861Z",
     "shell.execute_reply": "2023-12-12T12:56:29.388564Z",
     "shell.execute_reply.started": "2023-12-12T12:56:29.368636Z"
    }
   },
   "outputs": [
    {
     "data": {
      "text/html": [
       "<div>\n",
       "<style scoped>\n",
       "    .dataframe tbody tr th:only-of-type {\n",
       "        vertical-align: middle;\n",
       "    }\n",
       "\n",
       "    .dataframe tbody tr th {\n",
       "        vertical-align: top;\n",
       "    }\n",
       "\n",
       "    .dataframe thead th {\n",
       "        text-align: right;\n",
       "    }\n",
       "</style>\n",
       "<table border=\"1\" class=\"dataframe\">\n",
       "  <thead>\n",
       "    <tr style=\"text-align: right;\">\n",
       "      <th></th>\n",
       "      <th>site_id</th>\n",
       "      <th>building_id</th>\n",
       "      <th>primary_use</th>\n",
       "      <th>square_feet</th>\n",
       "      <th>year_built</th>\n",
       "      <th>floor_count</th>\n",
       "    </tr>\n",
       "  </thead>\n",
       "  <tbody>\n",
       "    <tr>\n",
       "      <td>0</td>\n",
       "      <td>0</td>\n",
       "      <td>0</td>\n",
       "      <td>0</td>\n",
       "      <td>7432</td>\n",
       "      <td>2008.0</td>\n",
       "      <td>NaN</td>\n",
       "    </tr>\n",
       "    <tr>\n",
       "      <td>1</td>\n",
       "      <td>0</td>\n",
       "      <td>1</td>\n",
       "      <td>0</td>\n",
       "      <td>2720</td>\n",
       "      <td>2004.0</td>\n",
       "      <td>NaN</td>\n",
       "    </tr>\n",
       "    <tr>\n",
       "      <td>2</td>\n",
       "      <td>0</td>\n",
       "      <td>2</td>\n",
       "      <td>0</td>\n",
       "      <td>5376</td>\n",
       "      <td>1991.0</td>\n",
       "      <td>NaN</td>\n",
       "    </tr>\n",
       "    <tr>\n",
       "      <td>3</td>\n",
       "      <td>0</td>\n",
       "      <td>3</td>\n",
       "      <td>0</td>\n",
       "      <td>23685</td>\n",
       "      <td>2002.0</td>\n",
       "      <td>NaN</td>\n",
       "    </tr>\n",
       "    <tr>\n",
       "      <td>4</td>\n",
       "      <td>0</td>\n",
       "      <td>4</td>\n",
       "      <td>0</td>\n",
       "      <td>116607</td>\n",
       "      <td>1975.0</td>\n",
       "      <td>NaN</td>\n",
       "    </tr>\n",
       "  </tbody>\n",
       "</table>\n",
       "</div>"
      ],
      "text/plain": [
       "   site_id  building_id  primary_use  square_feet  year_built  floor_count\n",
       "0        0            0            0         7432      2008.0          NaN\n",
       "1        0            1            0         2720      2004.0          NaN\n",
       "2        0            2            0         5376      1991.0          NaN\n",
       "3        0            3            0        23685      2002.0          NaN\n",
       "4        0            4            0       116607      1975.0          NaN"
      ]
     },
     "execution_count": 26,
     "metadata": {},
     "output_type": "execute_result"
    }
   ],
   "source": [
    "metadata_df.head()"
   ]
  },
  {
   "cell_type": "code",
   "execution_count": 27,
   "metadata": {
    "execution": {
     "iopub.execute_input": "2023-12-12T12:56:29.393892Z",
     "iopub.status.busy": "2023-12-12T12:56:29.393514Z",
     "iopub.status.idle": "2023-12-12T12:56:29.410354Z",
     "shell.execute_reply": "2023-12-12T12:56:29.409252Z",
     "shell.execute_reply.started": "2023-12-12T12:56:29.393828Z"
    }
   },
   "outputs": [
    {
     "data": {
      "text/html": [
       "<div>\n",
       "<style scoped>\n",
       "    .dataframe tbody tr th:only-of-type {\n",
       "        vertical-align: middle;\n",
       "    }\n",
       "\n",
       "    .dataframe tbody tr th {\n",
       "        vertical-align: top;\n",
       "    }\n",
       "\n",
       "    .dataframe thead th {\n",
       "        text-align: right;\n",
       "    }\n",
       "</style>\n",
       "<table border=\"1\" class=\"dataframe\">\n",
       "  <thead>\n",
       "    <tr style=\"text-align: right;\">\n",
       "      <th></th>\n",
       "      <th>row_id</th>\n",
       "      <th>building_id</th>\n",
       "      <th>meter</th>\n",
       "      <th>timestamp</th>\n",
       "    </tr>\n",
       "  </thead>\n",
       "  <tbody>\n",
       "    <tr>\n",
       "      <td>0</td>\n",
       "      <td>0</td>\n",
       "      <td>0</td>\n",
       "      <td>0</td>\n",
       "      <td>2017-01-01</td>\n",
       "    </tr>\n",
       "    <tr>\n",
       "      <td>1</td>\n",
       "      <td>1</td>\n",
       "      <td>1</td>\n",
       "      <td>0</td>\n",
       "      <td>2017-01-01</td>\n",
       "    </tr>\n",
       "    <tr>\n",
       "      <td>2</td>\n",
       "      <td>2</td>\n",
       "      <td>2</td>\n",
       "      <td>0</td>\n",
       "      <td>2017-01-01</td>\n",
       "    </tr>\n",
       "    <tr>\n",
       "      <td>3</td>\n",
       "      <td>3</td>\n",
       "      <td>3</td>\n",
       "      <td>0</td>\n",
       "      <td>2017-01-01</td>\n",
       "    </tr>\n",
       "    <tr>\n",
       "      <td>4</td>\n",
       "      <td>4</td>\n",
       "      <td>4</td>\n",
       "      <td>0</td>\n",
       "      <td>2017-01-01</td>\n",
       "    </tr>\n",
       "  </tbody>\n",
       "</table>\n",
       "</div>"
      ],
      "text/plain": [
       "   row_id  building_id  meter  timestamp\n",
       "0       0            0      0 2017-01-01\n",
       "1       1            1      0 2017-01-01\n",
       "2       2            2      0 2017-01-01\n",
       "3       3            3      0 2017-01-01\n",
       "4       4            4      0 2017-01-01"
      ]
     },
     "execution_count": 27,
     "metadata": {},
     "output_type": "execute_result"
    }
   ],
   "source": [
    "test_df.head()"
   ]
  },
  {
   "cell_type": "code",
   "execution_count": 28,
   "metadata": {
    "execution": {
     "iopub.execute_input": "2023-12-12T12:56:29.412652Z",
     "iopub.status.busy": "2023-12-12T12:56:29.412027Z",
     "iopub.status.idle": "2023-12-12T12:56:29.435767Z",
     "shell.execute_reply": "2023-12-12T12:56:29.434622Z",
     "shell.execute_reply.started": "2023-12-12T12:56:29.412584Z"
    }
   },
   "outputs": [
    {
     "data": {
      "text/html": [
       "<div>\n",
       "<style scoped>\n",
       "    .dataframe tbody tr th:only-of-type {\n",
       "        vertical-align: middle;\n",
       "    }\n",
       "\n",
       "    .dataframe tbody tr th {\n",
       "        vertical-align: top;\n",
       "    }\n",
       "\n",
       "    .dataframe thead th {\n",
       "        text-align: right;\n",
       "    }\n",
       "</style>\n",
       "<table border=\"1\" class=\"dataframe\">\n",
       "  <thead>\n",
       "    <tr style=\"text-align: right;\">\n",
       "      <th></th>\n",
       "      <th>building_id</th>\n",
       "      <th>meter</th>\n",
       "      <th>timestamp</th>\n",
       "      <th>meter_reading</th>\n",
       "    </tr>\n",
       "  </thead>\n",
       "  <tbody>\n",
       "    <tr>\n",
       "      <td>0</td>\n",
       "      <td>0</td>\n",
       "      <td>0</td>\n",
       "      <td>2016-01-01</td>\n",
       "      <td>0.0</td>\n",
       "    </tr>\n",
       "    <tr>\n",
       "      <td>1</td>\n",
       "      <td>1</td>\n",
       "      <td>0</td>\n",
       "      <td>2016-01-01</td>\n",
       "      <td>0.0</td>\n",
       "    </tr>\n",
       "    <tr>\n",
       "      <td>2</td>\n",
       "      <td>2</td>\n",
       "      <td>0</td>\n",
       "      <td>2016-01-01</td>\n",
       "      <td>0.0</td>\n",
       "    </tr>\n",
       "    <tr>\n",
       "      <td>3</td>\n",
       "      <td>3</td>\n",
       "      <td>0</td>\n",
       "      <td>2016-01-01</td>\n",
       "      <td>0.0</td>\n",
       "    </tr>\n",
       "    <tr>\n",
       "      <td>4</td>\n",
       "      <td>4</td>\n",
       "      <td>0</td>\n",
       "      <td>2016-01-01</td>\n",
       "      <td>0.0</td>\n",
       "    </tr>\n",
       "  </tbody>\n",
       "</table>\n",
       "</div>"
      ],
      "text/plain": [
       "   building_id  meter  timestamp  meter_reading\n",
       "0            0      0 2016-01-01            0.0\n",
       "1            1      0 2016-01-01            0.0\n",
       "2            2      0 2016-01-01            0.0\n",
       "3            3      0 2016-01-01            0.0\n",
       "4            4      0 2016-01-01            0.0"
      ]
     },
     "execution_count": 28,
     "metadata": {},
     "output_type": "execute_result"
    }
   ],
   "source": [
    "train_df.head()"
   ]
  },
  {
   "cell_type": "code",
   "execution_count": 29,
   "metadata": {
    "execution": {
     "iopub.execute_input": "2023-12-12T12:56:29.438592Z",
     "iopub.status.busy": "2023-12-12T12:56:29.437891Z",
     "iopub.status.idle": "2023-12-12T12:56:40.587028Z",
     "shell.execute_reply": "2023-12-12T12:56:40.585733Z",
     "shell.execute_reply.started": "2023-12-12T12:56:29.438519Z"
    }
   },
   "outputs": [
    {
     "name": "stdout",
     "output_type": "stream",
     "text": [
      "CPU times: user 6.78 s, sys: 5.42 s, total: 12.2 s\n",
      "Wall time: 10.6 s\n"
     ]
    }
   ],
   "source": [
    "%%time\n",
    "full_train_df = train_df.merge(metadata_df, on='building_id', how='left')\n",
    "full_train_df = full_train_df.merge(weather_train_df, on=['site_id', 'timestamp'], how='left')"
   ]
  },
  {
   "cell_type": "markdown",
   "metadata": {},
   "source": [
    "Drop all NaN rows which are generated by timestamp alignment"
   ]
  },
  {
   "cell_type": "code",
   "execution_count": 30,
   "metadata": {
    "execution": {
     "iopub.execute_input": "2023-12-12T12:56:40.589299Z",
     "iopub.status.busy": "2023-12-12T12:56:40.588883Z",
     "iopub.status.idle": "2023-12-12T12:56:46.018063Z",
     "shell.execute_reply": "2023-12-12T12:56:46.016785Z",
     "shell.execute_reply.started": "2023-12-12T12:56:40.589218Z"
    }
   },
   "outputs": [],
   "source": [
    "full_train_df = full_train_df.loc[~(full_train_df['air_temperature'].isnull() & full_train_df['cloud_coverage'].isnull() & full_train_df['dew_temperature'].isnull() & full_train_df['precip_depth_1_hr'].isnull() & full_train_df['sea_level_pressure'].isnull() & full_train_df['wind_direction'].isnull() & full_train_df['wind_speed'].isnull() & full_train_df['offset'].isnull())]"
   ]
  },
  {
   "cell_type": "code",
   "execution_count": 31,
   "metadata": {
    "execution": {
     "iopub.execute_input": "2023-12-12T12:56:46.020249Z",
     "iopub.status.busy": "2023-12-12T12:56:46.019917Z",
     "iopub.status.idle": "2023-12-12T12:56:46.029013Z",
     "shell.execute_reply": "2023-12-12T12:56:46.028006Z",
     "shell.execute_reply.started": "2023-12-12T12:56:46.020199Z"
    }
   },
   "outputs": [
    {
     "data": {
      "text/plain": [
       "(20112649, 17)"
      ]
     },
     "execution_count": 31,
     "metadata": {},
     "output_type": "execute_result"
    }
   ],
   "source": [
    "full_train_df.shape"
   ]
  },
  {
   "cell_type": "markdown",
   "metadata": {},
   "source": [
    "#### Reducing the memory usage\n",
    "Let's delete unnecessary dataframes from memory to lower the memory usage"
   ]
  },
  {
   "cell_type": "code",
   "execution_count": 32,
   "metadata": {
    "execution": {
     "iopub.execute_input": "2023-12-12T12:56:46.031698Z",
     "iopub.status.busy": "2023-12-12T12:56:46.030924Z",
     "iopub.status.idle": "2023-12-12T12:56:46.110771Z",
     "shell.execute_reply": "2023-12-12T12:56:46.109599Z",
     "shell.execute_reply.started": "2023-12-12T12:56:46.031625Z"
    }
   },
   "outputs": [
    {
     "data": {
      "text/plain": [
       "0"
      ]
     },
     "execution_count": 32,
     "metadata": {},
     "output_type": "execute_result"
    }
   ],
   "source": [
    "# Delete unnecessary dataframes to decrease memory usage\n",
    "del train_df\n",
    "del weather_train_df\n",
    "gc.collect()"
   ]
  },
  {
   "cell_type": "markdown",
   "metadata": {},
   "source": [
    "Now let's change the data types of necessary feature columns based on the range of the data values. This will lower the data usage. But **how**? Let's see. For example the datatype of feature `building_id` is `int64` but based on the range of this feature, it can be accomodated in lower range i.e. `int16`. So this will decrease the memory usage."
   ]
  },
  {
   "cell_type": "markdown",
   "metadata": {},
   "source": [
    "#### Let's do the same for test data"
   ]
  },
  {
   "cell_type": "code",
   "execution_count": 33,
   "metadata": {
    "execution": {
     "iopub.execute_input": "2023-12-12T12:56:46.113051Z",
     "iopub.status.busy": "2023-12-12T12:56:46.112672Z",
     "iopub.status.idle": "2023-12-12T12:57:09.500767Z",
     "shell.execute_reply": "2023-12-12T12:57:09.499713Z",
     "shell.execute_reply.started": "2023-12-12T12:56:46.112989Z"
    }
   },
   "outputs": [
    {
     "name": "stdout",
     "output_type": "stream",
     "text": [
      "CPU times: user 13.3 s, sys: 11.7 s, total: 25 s\n",
      "Wall time: 22.3 s\n"
     ]
    }
   ],
   "source": [
    "%%time\n",
    "full_test_df = test_df.merge(metadata_df, on='building_id', how='left')\n",
    "full_test_df = full_test_df.merge(weather_test_df, on=['site_id', 'timestamp'], how='left')"
   ]
  },
  {
   "cell_type": "code",
   "execution_count": 34,
   "metadata": {
    "execution": {
     "iopub.execute_input": "2023-12-12T12:57:09.502464Z",
     "iopub.status.busy": "2023-12-12T12:57:09.502173Z",
     "iopub.status.idle": "2023-12-12T12:57:09.510171Z",
     "shell.execute_reply": "2023-12-12T12:57:09.508998Z",
     "shell.execute_reply.started": "2023-12-12T12:57:09.502407Z"
    }
   },
   "outputs": [
    {
     "data": {
      "text/plain": [
       "(41697600, 17)"
      ]
     },
     "execution_count": 34,
     "metadata": {},
     "output_type": "execute_result"
    }
   ],
   "source": [
    "full_test_df.shape"
   ]
  },
  {
   "cell_type": "markdown",
   "metadata": {},
   "source": [
    "#### Reducing the memory usage\n",
    "Let's delete unnecessary dataframes from memory to lower the memory usage"
   ]
  },
  {
   "cell_type": "code",
   "execution_count": 35,
   "metadata": {
    "execution": {
     "iopub.execute_input": "2023-12-12T12:57:09.520206Z",
     "iopub.status.busy": "2023-12-12T12:57:09.519828Z",
     "iopub.status.idle": "2023-12-12T12:57:09.590797Z",
     "shell.execute_reply": "2023-12-12T12:57:09.589628Z",
     "shell.execute_reply.started": "2023-12-12T12:57:09.520148Z"
    }
   },
   "outputs": [
    {
     "data": {
      "text/plain": [
       "0"
      ]
     },
     "execution_count": 35,
     "metadata": {},
     "output_type": "execute_result"
    }
   ],
   "source": [
    "# Delete unnecessary dataframes to decrease memory usage\n",
    "del metadata_df\n",
    "del weather_test_df\n",
    "del test_df\n",
    "gc.collect()"
   ]
  },
  {
   "cell_type": "code",
   "execution_count": 36,
   "metadata": {
    "execution": {
     "iopub.execute_input": "2023-12-12T12:57:09.593073Z",
     "iopub.status.busy": "2023-12-12T12:57:09.592757Z",
     "iopub.status.idle": "2023-12-12T12:57:09.632962Z",
     "shell.execute_reply": "2023-12-12T12:57:09.631572Z",
     "shell.execute_reply.started": "2023-12-12T12:57:09.593016Z"
    }
   },
   "outputs": [
    {
     "data": {
      "text/html": [
       "<div>\n",
       "<style scoped>\n",
       "    .dataframe tbody tr th:only-of-type {\n",
       "        vertical-align: middle;\n",
       "    }\n",
       "\n",
       "    .dataframe tbody tr th {\n",
       "        vertical-align: top;\n",
       "    }\n",
       "\n",
       "    .dataframe thead th {\n",
       "        text-align: right;\n",
       "    }\n",
       "</style>\n",
       "<table border=\"1\" class=\"dataframe\">\n",
       "  <thead>\n",
       "    <tr style=\"text-align: right;\">\n",
       "      <th></th>\n",
       "      <th>building_id</th>\n",
       "      <th>meter</th>\n",
       "      <th>timestamp</th>\n",
       "      <th>meter_reading</th>\n",
       "      <th>site_id</th>\n",
       "      <th>primary_use</th>\n",
       "      <th>square_feet</th>\n",
       "      <th>year_built</th>\n",
       "      <th>floor_count</th>\n",
       "      <th>air_temperature</th>\n",
       "      <th>cloud_coverage</th>\n",
       "      <th>dew_temperature</th>\n",
       "      <th>precip_depth_1_hr</th>\n",
       "      <th>sea_level_pressure</th>\n",
       "      <th>wind_direction</th>\n",
       "      <th>wind_speed</th>\n",
       "      <th>offset</th>\n",
       "    </tr>\n",
       "  </thead>\n",
       "  <tbody>\n",
       "    <tr>\n",
       "      <td>0</td>\n",
       "      <td>0</td>\n",
       "      <td>0</td>\n",
       "      <td>2016-01-01</td>\n",
       "      <td>0.0</td>\n",
       "      <td>0</td>\n",
       "      <td>0</td>\n",
       "      <td>7432</td>\n",
       "      <td>2008.0</td>\n",
       "      <td>NaN</td>\n",
       "      <td>19.40625</td>\n",
       "      <td>4.0</td>\n",
       "      <td>19.40625</td>\n",
       "      <td>0.0</td>\n",
       "      <td>1019.5</td>\n",
       "      <td>0.0</td>\n",
       "      <td>0.0</td>\n",
       "      <td>5.0</td>\n",
       "    </tr>\n",
       "    <tr>\n",
       "      <td>1</td>\n",
       "      <td>1</td>\n",
       "      <td>0</td>\n",
       "      <td>2016-01-01</td>\n",
       "      <td>0.0</td>\n",
       "      <td>0</td>\n",
       "      <td>0</td>\n",
       "      <td>2720</td>\n",
       "      <td>2004.0</td>\n",
       "      <td>NaN</td>\n",
       "      <td>19.40625</td>\n",
       "      <td>4.0</td>\n",
       "      <td>19.40625</td>\n",
       "      <td>0.0</td>\n",
       "      <td>1019.5</td>\n",
       "      <td>0.0</td>\n",
       "      <td>0.0</td>\n",
       "      <td>5.0</td>\n",
       "    </tr>\n",
       "    <tr>\n",
       "      <td>2</td>\n",
       "      <td>2</td>\n",
       "      <td>0</td>\n",
       "      <td>2016-01-01</td>\n",
       "      <td>0.0</td>\n",
       "      <td>0</td>\n",
       "      <td>0</td>\n",
       "      <td>5376</td>\n",
       "      <td>1991.0</td>\n",
       "      <td>NaN</td>\n",
       "      <td>19.40625</td>\n",
       "      <td>4.0</td>\n",
       "      <td>19.40625</td>\n",
       "      <td>0.0</td>\n",
       "      <td>1019.5</td>\n",
       "      <td>0.0</td>\n",
       "      <td>0.0</td>\n",
       "      <td>5.0</td>\n",
       "    </tr>\n",
       "    <tr>\n",
       "      <td>3</td>\n",
       "      <td>3</td>\n",
       "      <td>0</td>\n",
       "      <td>2016-01-01</td>\n",
       "      <td>0.0</td>\n",
       "      <td>0</td>\n",
       "      <td>0</td>\n",
       "      <td>23685</td>\n",
       "      <td>2002.0</td>\n",
       "      <td>NaN</td>\n",
       "      <td>19.40625</td>\n",
       "      <td>4.0</td>\n",
       "      <td>19.40625</td>\n",
       "      <td>0.0</td>\n",
       "      <td>1019.5</td>\n",
       "      <td>0.0</td>\n",
       "      <td>0.0</td>\n",
       "      <td>5.0</td>\n",
       "    </tr>\n",
       "    <tr>\n",
       "      <td>4</td>\n",
       "      <td>4</td>\n",
       "      <td>0</td>\n",
       "      <td>2016-01-01</td>\n",
       "      <td>0.0</td>\n",
       "      <td>0</td>\n",
       "      <td>0</td>\n",
       "      <td>116607</td>\n",
       "      <td>1975.0</td>\n",
       "      <td>NaN</td>\n",
       "      <td>19.40625</td>\n",
       "      <td>4.0</td>\n",
       "      <td>19.40625</td>\n",
       "      <td>0.0</td>\n",
       "      <td>1019.5</td>\n",
       "      <td>0.0</td>\n",
       "      <td>0.0</td>\n",
       "      <td>5.0</td>\n",
       "    </tr>\n",
       "  </tbody>\n",
       "</table>\n",
       "</div>"
      ],
      "text/plain": [
       "   building_id  meter  timestamp  meter_reading  site_id  primary_use  \\\n",
       "0            0      0 2016-01-01            0.0        0            0   \n",
       "1            1      0 2016-01-01            0.0        0            0   \n",
       "2            2      0 2016-01-01            0.0        0            0   \n",
       "3            3      0 2016-01-01            0.0        0            0   \n",
       "4            4      0 2016-01-01            0.0        0            0   \n",
       "\n",
       "   square_feet  year_built  floor_count  air_temperature  cloud_coverage  \\\n",
       "0         7432      2008.0          NaN         19.40625             4.0   \n",
       "1         2720      2004.0          NaN         19.40625             4.0   \n",
       "2         5376      1991.0          NaN         19.40625             4.0   \n",
       "3        23685      2002.0          NaN         19.40625             4.0   \n",
       "4       116607      1975.0          NaN         19.40625             4.0   \n",
       "\n",
       "   dew_temperature  precip_depth_1_hr  sea_level_pressure  wind_direction  \\\n",
       "0         19.40625                0.0              1019.5             0.0   \n",
       "1         19.40625                0.0              1019.5             0.0   \n",
       "2         19.40625                0.0              1019.5             0.0   \n",
       "3         19.40625                0.0              1019.5             0.0   \n",
       "4         19.40625                0.0              1019.5             0.0   \n",
       "\n",
       "   wind_speed  offset  \n",
       "0         0.0     5.0  \n",
       "1         0.0     5.0  \n",
       "2         0.0     5.0  \n",
       "3         0.0     5.0  \n",
       "4         0.0     5.0  "
      ]
     },
     "execution_count": 36,
     "metadata": {},
     "output_type": "execute_result"
    }
   ],
   "source": [
    "full_train_df.head()"
   ]
  },
  {
   "cell_type": "markdown",
   "metadata": {},
   "source": [
    "### Distribition of primary usage of buildings"
   ]
  },
  {
   "cell_type": "code",
   "execution_count": 37,
   "metadata": {
    "execution": {
     "iopub.execute_input": "2023-12-12T12:57:09.634464Z",
     "iopub.status.busy": "2023-12-12T12:57:09.634168Z",
     "iopub.status.idle": "2023-12-12T12:57:11.495593Z",
     "shell.execute_reply": "2023-12-12T12:57:11.494642Z",
     "shell.execute_reply.started": "2023-12-12T12:57:09.634405Z"
    }
   },
   "outputs": [
    {
     "data": {
      "image/png": "[encoded data removed]",
      "text/plain": [
       "<Figure size 792x576 with 1 Axes>"
      ]
     },
     "metadata": {},
     "output_type": "display_data"
    }
   ],
   "source": [
    "ax = sns.barplot(le.inverse_transform(full_train_df.groupby(['primary_use']).size().reset_index(name='counts')['primary_use']), full_train_df.groupby(['primary_use']).size().reset_index(name='counts')['counts'])\n",
    "ax.set(xlabel='Primary Usage', ylabel='# of records', title='Primary Usage vs. # of records')\n",
    "ax.set_xticklabels(ax.get_xticklabels(), rotation=50, ha=\"right\")\n",
    "plt.show()"
   ]
  },
  {
   "cell_type": "markdown",
   "metadata": {},
   "source": [
    "### Distribution of meter types"
   ]
  },
  {
   "cell_type": "code",
   "execution_count": 38,
   "metadata": {
    "execution": {
     "iopub.execute_input": "2023-12-12T12:57:11.497738Z",
     "iopub.status.busy": "2023-12-12T12:57:11.497254Z",
     "iopub.status.idle": "2023-12-12T12:57:12.480871Z",
     "shell.execute_reply": "2023-12-12T12:57:12.479659Z",
     "shell.execute_reply.started": "2023-12-12T12:57:11.497667Z"
    }
   },
   "outputs": [
    {
     "data": {
      "image/png": "[encoded data removed]",
      "text/plain": [
       "<Figure size 792x576 with 1 Axes>"
      ]
     },
     "metadata": {},
     "output_type": "display_data"
    }
   ],
   "source": [
    "meter_types = {0: 'electricity', 1: 'chilledwater', 2: 'steam', 3: 'hotwater'}\n",
    "ax = sns.barplot(np.vectorize(meter_types.get)(pd.unique(full_train_df['meter'])), full_train_df['meter'].value_counts())\n",
    "ax.set(xlabel='Meter Type', ylabel='# of records', title='Meter type vs. # of records')\n",
    "plt.show()"
   ]
  },
  {
   "cell_type": "markdown",
   "metadata": {},
   "source": [
    "### Average meter reading for training dataset"
   ]
  },
  {
   "cell_type": "code",
   "execution_count": 39,
   "metadata": {
    "execution": {
     "iopub.execute_input": "2023-12-12T12:57:12.483262Z",
     "iopub.status.busy": "2023-12-12T12:57:12.482812Z",
     "iopub.status.idle": "2023-12-12T12:57:12.945479Z",
     "shell.execute_reply": "2023-12-12T12:57:12.944501Z",
     "shell.execute_reply.started": "2023-12-12T12:57:12.483182Z"
    }
   },
   "outputs": [
    {
     "name": "stdout",
     "output_type": "stream",
     "text": [
      "Average meter reading: nan kWh\n"
     ]
    }
   ],
   "source": [
    "# Average meter reading\n",
    "print (f'Average meter reading: {full_train_df.meter_reading.mean()} kWh')"
   ]
  },
  {
   "cell_type": "markdown",
   "metadata": {},
   "source": [
    "### Distribution of meter readings for each meter type"
   ]
  },
  {
   "cell_type": "code",
   "execution_count": 40,
   "metadata": {
    "execution": {
     "iopub.execute_input": "2023-12-12T12:57:12.947331Z",
     "iopub.status.busy": "2023-12-12T12:57:12.947034Z",
     "iopub.status.idle": "2023-12-12T12:57:15.087555Z",
     "shell.execute_reply": "2023-12-12T12:57:15.086513Z",
     "shell.execute_reply.started": "2023-12-12T12:57:12.947283Z"
    }
   },
   "outputs": [
    {
     "data": {
      "image/png": "[encoded data removed]",
      "text/plain": [
       "<Figure size 792x576 with 1 Axes>"
      ]
     },
     "metadata": {},
     "output_type": "display_data"
    }
   ],
   "source": [
    "ax = sns.barplot(np.vectorize(meter_types.get)(full_train_df.groupby(['meter'])['meter_reading'].mean().keys()), full_train_df.groupby(['meter'])['meter_reading'].mean())\n",
    "ax.set(xlabel='Meter Type', ylabel='Meter reading', title='Meter type vs. Meter Reading')\n",
    "plt.show()"
   ]
  },
  {
   "cell_type": "markdown",
   "metadata": {},
   "source": [
    "### Distribution of buildings built in each year for both training and test datasets"
   ]
  },
  {
   "cell_type": "code",
   "execution_count": 41,
   "metadata": {
    "execution": {
     "iopub.execute_input": "2023-12-12T12:57:15.089416Z",
     "iopub.status.busy": "2023-12-12T12:57:15.089114Z",
     "iopub.status.idle": "2023-12-12T12:57:16.958691Z",
     "shell.execute_reply": "2023-12-12T12:57:16.957624Z",
     "shell.execute_reply.started": "2023-12-12T12:57:15.089367Z"
    }
   },
   "outputs": [
    {
     "data": {
      "image/png": "[encoded data removed]",
      "text/plain": [
       "<Figure size 1008x432 with 1 Axes>"
      ]
     },
     "metadata": {},
     "output_type": "display_data"
    }
   ],
   "source": [
    "fig, ax = plt.subplots(1,1,figsize=(14, 6))\n",
    "ax.set(xlabel='Year Built', ylabel='# Of Buildings', title='Buildings built in each year')\n",
    "full_train_df['year_built'].value_counts(dropna=False).sort_index().plot(ax=ax)\n",
    "full_test_df['year_built'].value_counts(dropna=False).sort_index().plot(ax=ax)\n",
    "ax.legend(['Train', 'Test']);"
   ]
  },
  {
   "cell_type": "markdown",
   "metadata": {},
   "source": [
    "### Distribution of square feet area of buildings"
   ]
  },
  {
   "cell_type": "code",
   "execution_count": 42,
   "metadata": {
    "execution": {
     "iopub.execute_input": "2023-12-12T12:57:16.960642Z",
     "iopub.status.busy": "2023-12-12T12:57:16.960299Z",
     "iopub.status.idle": "2023-12-12T12:57:19.081138Z",
     "shell.execute_reply": "2023-12-12T12:57:19.079799Z",
     "shell.execute_reply.started": "2023-12-12T12:57:16.960588Z"
    }
   },
   "outputs": [
    {
     "data": {
      "image/png": "[encoded data removed]",
      "text/plain": [
       "<Figure size 1080x504 with 1 Axes>"
      ]
     },
     "metadata": {},
     "output_type": "display_data"
    }
   ],
   "source": [
    "fig, ax = plt.subplots(1,1,figsize=(15, 7))\n",
    "full_train_df.groupby(['building_id'])['square_feet'].mean().plot(ax=ax)\n",
    "ax.set(xlabel='Building ID', ylabel='Area in Square Feet', title='Square Feet area of buildings')\n",
    "plt.show()"
   ]
  },
  {
   "cell_type": "markdown",
   "metadata": {},
   "source": [
    "## Feature Engineering"
   ]
  },
  {
   "cell_type": "markdown",
   "metadata": {},
   "source": [
    "### Analysing missing data\n",
    "First let's count and fill missing data in training datasets"
   ]
  },
  {
   "cell_type": "code",
   "execution_count": 43,
   "metadata": {
    "execution": {
     "iopub.execute_input": "2023-12-12T12:57:19.083830Z",
     "iopub.status.busy": "2023-12-12T12:57:19.083204Z",
     "iopub.status.idle": "2023-12-12T12:57:25.346748Z",
     "shell.execute_reply": "2023-12-12T12:57:25.343747Z",
     "shell.execute_reply.started": "2023-12-12T12:57:19.083758Z"
    }
   },
   "outputs": [
    {
     "data": {
      "text/html": [
       "<div>\n",
       "<style scoped>\n",
       "    .dataframe tbody tr th:only-of-type {\n",
       "        vertical-align: middle;\n",
       "    }\n",
       "\n",
       "    .dataframe tbody tr th {\n",
       "        vertical-align: top;\n",
       "    }\n",
       "\n",
       "    .dataframe thead th {\n",
       "        text-align: right;\n",
       "    }\n",
       "</style>\n",
       "<table border=\"1\" class=\"dataframe\">\n",
       "  <thead>\n",
       "    <tr style=\"text-align: right;\">\n",
       "      <th></th>\n",
       "      <th>NaN Count</th>\n",
       "    </tr>\n",
       "  </thead>\n",
       "  <tbody>\n",
       "    <tr>\n",
       "      <td>floor_count</td>\n",
       "      <td>16618674</td>\n",
       "    </tr>\n",
       "    <tr>\n",
       "      <td>year_built</td>\n",
       "      <td>12105206</td>\n",
       "    </tr>\n",
       "    <tr>\n",
       "      <td>precip_depth_1_hr</td>\n",
       "      <td>1646098</td>\n",
       "    </tr>\n",
       "    <tr>\n",
       "      <td>sea_level_pressure</td>\n",
       "      <td>779195</td>\n",
       "    </tr>\n",
       "    <tr>\n",
       "      <td>cloud_coverage</td>\n",
       "      <td>476553</td>\n",
       "    </tr>\n",
       "    <tr>\n",
       "      <td>primary_use</td>\n",
       "      <td>0</td>\n",
       "    </tr>\n",
       "    <tr>\n",
       "      <td>meter</td>\n",
       "      <td>0</td>\n",
       "    </tr>\n",
       "    <tr>\n",
       "      <td>timestamp</td>\n",
       "      <td>0</td>\n",
       "    </tr>\n",
       "    <tr>\n",
       "      <td>meter_reading</td>\n",
       "      <td>0</td>\n",
       "    </tr>\n",
       "    <tr>\n",
       "      <td>site_id</td>\n",
       "      <td>0</td>\n",
       "    </tr>\n",
       "    <tr>\n",
       "      <td>offset</td>\n",
       "      <td>0</td>\n",
       "    </tr>\n",
       "    <tr>\n",
       "      <td>square_feet</td>\n",
       "      <td>0</td>\n",
       "    </tr>\n",
       "    <tr>\n",
       "      <td>wind_speed</td>\n",
       "      <td>0</td>\n",
       "    </tr>\n",
       "    <tr>\n",
       "      <td>air_temperature</td>\n",
       "      <td>0</td>\n",
       "    </tr>\n",
       "    <tr>\n",
       "      <td>dew_temperature</td>\n",
       "      <td>0</td>\n",
       "    </tr>\n",
       "    <tr>\n",
       "      <td>wind_direction</td>\n",
       "      <td>0</td>\n",
       "    </tr>\n",
       "    <tr>\n",
       "      <td>building_id</td>\n",
       "      <td>0</td>\n",
       "    </tr>\n",
       "  </tbody>\n",
       "</table>\n",
       "</div>"
      ],
      "text/plain": [
       "                    NaN Count\n",
       "floor_count          16618674\n",
       "year_built           12105206\n",
       "precip_depth_1_hr     1646098\n",
       "sea_level_pressure     779195\n",
       "cloud_coverage         476553\n",
       "primary_use                 0\n",
       "meter                       0\n",
       "timestamp                   0\n",
       "meter_reading               0\n",
       "site_id                     0\n",
       "offset                      0\n",
       "square_feet                 0\n",
       "wind_speed                  0\n",
       "air_temperature             0\n",
       "dew_temperature             0\n",
       "wind_direction              0\n",
       "building_id                 0"
      ]
     },
     "execution_count": 43,
     "metadata": {},
     "output_type": "execute_result"
    }
   ],
   "source": [
    "pd.DataFrame(full_train_df.isna().sum().sort_values(ascending=False), columns=['NaN Count'])"
   ]
  },
  {
   "cell_type": "code",
   "execution_count": 44,
   "metadata": {
    "execution": {
     "iopub.execute_input": "2023-12-12T12:57:25.355001Z",
     "iopub.status.busy": "2023-12-12T12:57:25.353390Z",
     "iopub.status.idle": "2023-12-12T12:57:25.372332Z",
     "shell.execute_reply": "2023-12-12T12:57:25.368456Z",
     "shell.execute_reply.started": "2023-12-12T12:57:25.354329Z"
    }
   },
   "outputs": [],
   "source": [
    "def mean_without_overflow_fast(col):\n",
    "    col /= len(col)\n",
    "    return col.mean() * len(col)"
   ]
  },
  {
   "cell_type": "code",
   "execution_count": 45,
   "metadata": {
    "execution": {
     "iopub.execute_input": "2023-12-12T12:57:25.377661Z",
     "iopub.status.busy": "2023-12-12T12:57:25.376806Z",
     "iopub.status.idle": "2023-12-12T12:57:33.115311Z",
     "shell.execute_reply": "2023-12-12T12:57:33.112475Z",
     "shell.execute_reply.started": "2023-12-12T12:57:25.377512Z"
    }
   },
   "outputs": [],
   "source": [
    "missing_values = (100-full_train_df.count() / len(full_train_df) * 100).sort_values(ascending=False)"
   ]
  },
  {
   "cell_type": "code",
   "execution_count": 46,
   "metadata": {
    "execution": {
     "iopub.execute_input": "2023-12-12T12:57:33.123745Z",
     "iopub.status.busy": "2023-12-12T12:57:33.120495Z",
     "iopub.status.idle": "2023-12-12T12:57:37.766041Z",
     "shell.execute_reply": "2023-12-12T12:57:37.763006Z",
     "shell.execute_reply.started": "2023-12-12T12:57:33.123464Z"
    }
   },
   "outputs": [
    {
     "name": "stdout",
     "output_type": "stream",
     "text": [
      "CPU times: user 942 ms, sys: 1.04 s, total: 1.99 s\n",
      "Wall time: 1.6 s\n"
     ]
    }
   ],
   "source": [
    "%%time\n",
    "missing_features = full_train_df.loc[:, missing_values > 0.0]\n",
    "missing_features = missing_features.apply(mean_without_overflow_fast)"
   ]
  },
  {
   "cell_type": "code",
   "execution_count": 47,
   "metadata": {
    "execution": {
     "iopub.execute_input": "2023-12-12T12:57:37.770075Z",
     "iopub.status.busy": "2023-12-12T12:57:37.769310Z",
     "iopub.status.idle": "2023-12-12T12:57:41.282280Z",
     "shell.execute_reply": "2023-12-12T12:57:41.278667Z",
     "shell.execute_reply.started": "2023-12-12T12:57:37.769954Z"
    }
   },
   "outputs": [],
   "source": [
    "for key in full_train_df.loc[:, missing_values > 0.0].keys():\n",
    "    if key == 'year_built' or key == 'floor_count':\n",
    "        full_train_df[key].fillna(math.floor(missing_features[key]), inplace=True)\n",
    "        full_test_df[key].fillna(math.floor(missing_features[key]), inplace=True)\n",
    "    else:\n",
    "        full_train_df[key].fillna(missing_features[key], inplace=True)\n",
    "        full_test_df[key].fillna(missing_features[key], inplace=True)"
   ]
  },
  {
   "cell_type": "code",
   "execution_count": 48,
   "metadata": {
    "execution": {
     "iopub.execute_input": "2023-12-12T12:57:41.288355Z",
     "iopub.status.busy": "2023-12-12T12:57:41.287075Z",
     "iopub.status.idle": "2023-12-12T12:57:41.376454Z",
     "shell.execute_reply": "2023-12-12T12:57:41.375457Z",
     "shell.execute_reply.started": "2023-12-12T12:57:41.288152Z"
    }
   },
   "outputs": [
    {
     "data": {
      "text/html": [
       "<div>\n",
       "<style scoped>\n",
       "    .dataframe tbody tr th:only-of-type {\n",
       "        vertical-align: middle;\n",
       "    }\n",
       "\n",
       "    .dataframe tbody tr th {\n",
       "        vertical-align: top;\n",
       "    }\n",
       "\n",
       "    .dataframe thead th {\n",
       "        text-align: right;\n",
       "    }\n",
       "</style>\n",
       "<table border=\"1\" class=\"dataframe\">\n",
       "  <thead>\n",
       "    <tr style=\"text-align: right;\">\n",
       "      <th></th>\n",
       "      <th>building_id</th>\n",
       "      <th>meter</th>\n",
       "      <th>timestamp</th>\n",
       "      <th>meter_reading</th>\n",
       "      <th>site_id</th>\n",
       "      <th>primary_use</th>\n",
       "      <th>square_feet</th>\n",
       "      <th>year_built</th>\n",
       "      <th>floor_count</th>\n",
       "      <th>air_temperature</th>\n",
       "      <th>cloud_coverage</th>\n",
       "      <th>dew_temperature</th>\n",
       "      <th>precip_depth_1_hr</th>\n",
       "      <th>sea_level_pressure</th>\n",
       "      <th>wind_direction</th>\n",
       "      <th>wind_speed</th>\n",
       "      <th>offset</th>\n",
       "    </tr>\n",
       "  </thead>\n",
       "  <tbody>\n",
       "    <tr>\n",
       "      <td>20215251</td>\n",
       "      <td>1064</td>\n",
       "      <td>0</td>\n",
       "      <td>2016-12-31 23:00:00</td>\n",
       "      <td>5.042969</td>\n",
       "      <td>12</td>\n",
       "      <td>0</td>\n",
       "      <td>131212</td>\n",
       "      <td>1968.0</td>\n",
       "      <td>4.0</td>\n",
       "      <td>6.5</td>\n",
       "      <td>8.0</td>\n",
       "      <td>5.300781</td>\n",
       "      <td>1.255859</td>\n",
       "      <td>1019.5</td>\n",
       "      <td>340.0</td>\n",
       "      <td>6.0</td>\n",
       "      <td>0.0</td>\n",
       "    </tr>\n",
       "    <tr>\n",
       "      <td>20215252</td>\n",
       "      <td>1065</td>\n",
       "      <td>0</td>\n",
       "      <td>2016-12-31 23:00:00</td>\n",
       "      <td>1.827148</td>\n",
       "      <td>12</td>\n",
       "      <td>6</td>\n",
       "      <td>12152</td>\n",
       "      <td>1968.0</td>\n",
       "      <td>4.0</td>\n",
       "      <td>6.5</td>\n",
       "      <td>8.0</td>\n",
       "      <td>5.300781</td>\n",
       "      <td>1.255859</td>\n",
       "      <td>1019.5</td>\n",
       "      <td>340.0</td>\n",
       "      <td>6.0</td>\n",
       "      <td>0.0</td>\n",
       "    </tr>\n",
       "    <tr>\n",
       "      <td>20215253</td>\n",
       "      <td>1066</td>\n",
       "      <td>0</td>\n",
       "      <td>2016-12-31 23:00:00</td>\n",
       "      <td>3.291016</td>\n",
       "      <td>12</td>\n",
       "      <td>0</td>\n",
       "      <td>55800</td>\n",
       "      <td>1968.0</td>\n",
       "      <td>4.0</td>\n",
       "      <td>6.5</td>\n",
       "      <td>8.0</td>\n",
       "      <td>5.300781</td>\n",
       "      <td>1.255859</td>\n",
       "      <td>1019.5</td>\n",
       "      <td>340.0</td>\n",
       "      <td>6.0</td>\n",
       "      <td>0.0</td>\n",
       "    </tr>\n",
       "    <tr>\n",
       "      <td>20215254</td>\n",
       "      <td>1067</td>\n",
       "      <td>0</td>\n",
       "      <td>2016-12-31 23:00:00</td>\n",
       "      <td>5.445312</td>\n",
       "      <td>12</td>\n",
       "      <td>0</td>\n",
       "      <td>125701</td>\n",
       "      <td>1968.0</td>\n",
       "      <td>4.0</td>\n",
       "      <td>6.5</td>\n",
       "      <td>8.0</td>\n",
       "      <td>5.300781</td>\n",
       "      <td>1.255859</td>\n",
       "      <td>1019.5</td>\n",
       "      <td>340.0</td>\n",
       "      <td>6.0</td>\n",
       "      <td>0.0</td>\n",
       "    </tr>\n",
       "    <tr>\n",
       "      <td>20215255</td>\n",
       "      <td>1068</td>\n",
       "      <td>0</td>\n",
       "      <td>2016-12-31 23:00:00</td>\n",
       "      <td>4.050781</td>\n",
       "      <td>12</td>\n",
       "      <td>0</td>\n",
       "      <td>112956</td>\n",
       "      <td>1968.0</td>\n",
       "      <td>4.0</td>\n",
       "      <td>6.5</td>\n",
       "      <td>8.0</td>\n",
       "      <td>5.300781</td>\n",
       "      <td>1.255859</td>\n",
       "      <td>1019.5</td>\n",
       "      <td>340.0</td>\n",
       "      <td>6.0</td>\n",
       "      <td>0.0</td>\n",
       "    </tr>\n",
       "  </tbody>\n",
       "</table>\n",
       "</div>"
      ],
      "text/plain": [
       "          building_id  meter           timestamp  meter_reading  site_id  \\\n",
       "20215251         1064      0 2016-12-31 23:00:00       5.042969       12   \n",
       "20215252         1065      0 2016-12-31 23:00:00       1.827148       12   \n",
       "20215253         1066      0 2016-12-31 23:00:00       3.291016       12   \n",
       "20215254         1067      0 2016-12-31 23:00:00       5.445312       12   \n",
       "20215255         1068      0 2016-12-31 23:00:00       4.050781       12   \n",
       "\n",
       "          primary_use  square_feet  year_built  floor_count  air_temperature  \\\n",
       "20215251            0       131212      1968.0          4.0              6.5   \n",
       "20215252            6        12152      1968.0          4.0              6.5   \n",
       "20215253            0        55800      1968.0          4.0              6.5   \n",
       "20215254            0       125701      1968.0          4.0              6.5   \n",
       "20215255            0       112956      1968.0          4.0              6.5   \n",
       "\n",
       "          cloud_coverage  dew_temperature  precip_depth_1_hr  \\\n",
       "20215251             8.0         5.300781           1.255859   \n",
       "20215252             8.0         5.300781           1.255859   \n",
       "20215253             8.0         5.300781           1.255859   \n",
       "20215254             8.0         5.300781           1.255859   \n",
       "20215255             8.0         5.300781           1.255859   \n",
       "\n",
       "          sea_level_pressure  wind_direction  wind_speed  offset  \n",
       "20215251              1019.5           340.0         6.0     0.0  \n",
       "20215252              1019.5           340.0         6.0     0.0  \n",
       "20215253              1019.5           340.0         6.0     0.0  \n",
       "20215254              1019.5           340.0         6.0     0.0  \n",
       "20215255              1019.5           340.0         6.0     0.0  "
      ]
     },
     "execution_count": 48,
     "metadata": {},
     "output_type": "execute_result"
    }
   ],
   "source": [
    "full_train_df.tail()"
   ]
  },
  {
   "cell_type": "code",
   "execution_count": 49,
   "metadata": {
    "execution": {
     "iopub.execute_input": "2023-12-12T12:57:41.378483Z",
     "iopub.status.busy": "2023-12-12T12:57:41.378001Z",
     "iopub.status.idle": "2023-12-12T12:57:41.411464Z",
     "shell.execute_reply": "2023-12-12T12:57:41.410226Z",
     "shell.execute_reply.started": "2023-12-12T12:57:41.378405Z"
    }
   },
   "outputs": [
    {
     "data": {
      "text/html": [
       "<div>\n",
       "<style scoped>\n",
       "    .dataframe tbody tr th:only-of-type {\n",
       "        vertical-align: middle;\n",
       "    }\n",
       "\n",
       "    .dataframe tbody tr th {\n",
       "        vertical-align: top;\n",
       "    }\n",
       "\n",
       "    .dataframe thead th {\n",
       "        text-align: right;\n",
       "    }\n",
       "</style>\n",
       "<table border=\"1\" class=\"dataframe\">\n",
       "  <thead>\n",
       "    <tr style=\"text-align: right;\">\n",
       "      <th></th>\n",
       "      <th>row_id</th>\n",
       "      <th>building_id</th>\n",
       "      <th>meter</th>\n",
       "      <th>timestamp</th>\n",
       "      <th>site_id</th>\n",
       "      <th>primary_use</th>\n",
       "      <th>square_feet</th>\n",
       "      <th>year_built</th>\n",
       "      <th>floor_count</th>\n",
       "      <th>air_temperature</th>\n",
       "      <th>cloud_coverage</th>\n",
       "      <th>dew_temperature</th>\n",
       "      <th>precip_depth_1_hr</th>\n",
       "      <th>sea_level_pressure</th>\n",
       "      <th>wind_direction</th>\n",
       "      <th>wind_speed</th>\n",
       "      <th>offset</th>\n",
       "    </tr>\n",
       "  </thead>\n",
       "  <tbody>\n",
       "    <tr>\n",
       "      <td>41697595</td>\n",
       "      <td>41697595</td>\n",
       "      <td>1444</td>\n",
       "      <td>0</td>\n",
       "      <td>2018-05-09 07:00:00</td>\n",
       "      <td>15</td>\n",
       "      <td>1</td>\n",
       "      <td>19619</td>\n",
       "      <td>1914.0</td>\n",
       "      <td>4.0</td>\n",
       "      <td>18.90625</td>\n",
       "      <td>0.0</td>\n",
       "      <td>10.601562</td>\n",
       "      <td>-1.0</td>\n",
       "      <td>1020.5</td>\n",
       "      <td>180.0</td>\n",
       "      <td>2.599609</td>\n",
       "      <td>6.0</td>\n",
       "    </tr>\n",
       "    <tr>\n",
       "      <td>41697596</td>\n",
       "      <td>41697596</td>\n",
       "      <td>1445</td>\n",
       "      <td>0</td>\n",
       "      <td>2018-05-09 07:00:00</td>\n",
       "      <td>15</td>\n",
       "      <td>0</td>\n",
       "      <td>4298</td>\n",
       "      <td>1968.0</td>\n",
       "      <td>4.0</td>\n",
       "      <td>18.90625</td>\n",
       "      <td>0.0</td>\n",
       "      <td>10.601562</td>\n",
       "      <td>-1.0</td>\n",
       "      <td>1020.5</td>\n",
       "      <td>180.0</td>\n",
       "      <td>2.599609</td>\n",
       "      <td>6.0</td>\n",
       "    </tr>\n",
       "    <tr>\n",
       "      <td>41697597</td>\n",
       "      <td>41697597</td>\n",
       "      <td>1446</td>\n",
       "      <td>0</td>\n",
       "      <td>2018-05-09 07:00:00</td>\n",
       "      <td>15</td>\n",
       "      <td>1</td>\n",
       "      <td>11265</td>\n",
       "      <td>1997.0</td>\n",
       "      <td>4.0</td>\n",
       "      <td>18.90625</td>\n",
       "      <td>0.0</td>\n",
       "      <td>10.601562</td>\n",
       "      <td>-1.0</td>\n",
       "      <td>1020.5</td>\n",
       "      <td>180.0</td>\n",
       "      <td>2.599609</td>\n",
       "      <td>6.0</td>\n",
       "    </tr>\n",
       "    <tr>\n",
       "      <td>41697598</td>\n",
       "      <td>41697598</td>\n",
       "      <td>1447</td>\n",
       "      <td>0</td>\n",
       "      <td>2018-05-09 07:00:00</td>\n",
       "      <td>15</td>\n",
       "      <td>4</td>\n",
       "      <td>29775</td>\n",
       "      <td>2001.0</td>\n",
       "      <td>4.0</td>\n",
       "      <td>18.90625</td>\n",
       "      <td>0.0</td>\n",
       "      <td>10.601562</td>\n",
       "      <td>-1.0</td>\n",
       "      <td>1020.5</td>\n",
       "      <td>180.0</td>\n",
       "      <td>2.599609</td>\n",
       "      <td>6.0</td>\n",
       "    </tr>\n",
       "    <tr>\n",
       "      <td>41697599</td>\n",
       "      <td>41697599</td>\n",
       "      <td>1448</td>\n",
       "      <td>0</td>\n",
       "      <td>2018-05-09 07:00:00</td>\n",
       "      <td>15</td>\n",
       "      <td>6</td>\n",
       "      <td>92271</td>\n",
       "      <td>2001.0</td>\n",
       "      <td>4.0</td>\n",
       "      <td>18.90625</td>\n",
       "      <td>0.0</td>\n",
       "      <td>10.601562</td>\n",
       "      <td>-1.0</td>\n",
       "      <td>1020.5</td>\n",
       "      <td>180.0</td>\n",
       "      <td>2.599609</td>\n",
       "      <td>6.0</td>\n",
       "    </tr>\n",
       "  </tbody>\n",
       "</table>\n",
       "</div>"
      ],
      "text/plain": [
       "            row_id  building_id  meter           timestamp  site_id  \\\n",
       "41697595  41697595         1444      0 2018-05-09 07:00:00       15   \n",
       "41697596  41697596         1445      0 2018-05-09 07:00:00       15   \n",
       "41697597  41697597         1446      0 2018-05-09 07:00:00       15   \n",
       "41697598  41697598         1447      0 2018-05-09 07:00:00       15   \n",
       "41697599  41697599         1448      0 2018-05-09 07:00:00       15   \n",
       "\n",
       "          primary_use  square_feet  year_built  floor_count  air_temperature  \\\n",
       "41697595            1        19619      1914.0          4.0         18.90625   \n",
       "41697596            0         4298      1968.0          4.0         18.90625   \n",
       "41697597            1        11265      1997.0          4.0         18.90625   \n",
       "41697598            4        29775      2001.0          4.0         18.90625   \n",
       "41697599            6        92271      2001.0          4.0         18.90625   \n",
       "\n",
       "          cloud_coverage  dew_temperature  precip_depth_1_hr  \\\n",
       "41697595             0.0        10.601562               -1.0   \n",
       "41697596             0.0        10.601562               -1.0   \n",
       "41697597             0.0        10.601562               -1.0   \n",
       "41697598             0.0        10.601562               -1.0   \n",
       "41697599             0.0        10.601562               -1.0   \n",
       "\n",
       "          sea_level_pressure  wind_direction  wind_speed  offset  \n",
       "41697595              1020.5           180.0    2.599609     6.0  \n",
       "41697596              1020.5           180.0    2.599609     6.0  \n",
       "41697597              1020.5           180.0    2.599609     6.0  \n",
       "41697598              1020.5           180.0    2.599609     6.0  \n",
       "41697599              1020.5           180.0    2.599609     6.0  "
      ]
     },
     "execution_count": 49,
     "metadata": {},
     "output_type": "execute_result"
    }
   ],
   "source": [
    "full_test_df.tail()"
   ]
  },
  {
   "cell_type": "markdown",
   "metadata": {},
   "source": [
    "### Adding few more features"
   ]
  },
  {
   "cell_type": "code",
   "execution_count": 50,
   "metadata": {
    "execution": {
     "iopub.execute_input": "2023-12-12T12:57:41.413789Z",
     "iopub.status.busy": "2023-12-12T12:57:41.413412Z",
     "iopub.status.idle": "2023-12-12T12:57:41.422116Z",
     "shell.execute_reply": "2023-12-12T12:57:41.420653Z",
     "shell.execute_reply.started": "2023-12-12T12:57:41.413732Z"
    }
   },
   "outputs": [
    {
     "data": {
      "text/plain": [
       "dtype('<M8[ns]')"
      ]
     },
     "execution_count": 50,
     "metadata": {},
     "output_type": "execute_result"
    }
   ],
   "source": [
    "full_train_df['timestamp'].dtype"
   ]
  },
  {
   "cell_type": "code",
   "execution_count": 51,
   "metadata": {
    "execution": {
     "iopub.execute_input": "2023-12-12T12:57:41.425051Z",
     "iopub.status.busy": "2023-12-12T12:57:41.424672Z",
     "iopub.status.idle": "2023-12-12T12:57:47.695832Z",
     "shell.execute_reply": "2023-12-12T12:57:47.692963Z",
     "shell.execute_reply.started": "2023-12-12T12:57:41.424982Z"
    }
   },
   "outputs": [],
   "source": [
    "full_train_df[\"timestamp\"] = pd.to_datetime(full_train_df[\"timestamp\"])\n",
    "full_test_df[\"timestamp\"] = pd.to_datetime(full_test_df[\"timestamp\"])"
   ]
  },
  {
   "cell_type": "code",
   "execution_count": 52,
   "metadata": {
    "execution": {
     "iopub.execute_input": "2023-12-12T12:57:47.702961Z",
     "iopub.status.busy": "2023-12-12T12:57:47.702148Z",
     "iopub.status.idle": "2023-12-12T12:57:47.724694Z",
     "shell.execute_reply": "2023-12-12T12:57:47.722926Z",
     "shell.execute_reply.started": "2023-12-12T12:57:47.702666Z"
    }
   },
   "outputs": [],
   "source": [
    "def transform(df):\n",
    "    df['hour'] = np.uint8(df['timestamp'].dt.hour)\n",
    "    df['day'] = np.uint8(df['timestamp'].dt.day)\n",
    "    df['weekday'] = np.uint8(df['timestamp'].dt.weekday)\n",
    "    df['month'] = np.uint8(df['timestamp'].dt.month)\n",
    "    df['year'] = np.uint8(df['timestamp'].dt.year-1900)\n",
    "    \n",
    "    df['square_feet'] = np.log(df['square_feet'])\n",
    "    \n",
    "    return df"
   ]
  },
  {
   "cell_type": "code",
   "execution_count": 53,
   "metadata": {
    "execution": {
     "iopub.execute_input": "2023-12-12T12:57:47.727384Z",
     "iopub.status.busy": "2023-12-12T12:57:47.726849Z",
     "iopub.status.idle": "2023-12-12T12:58:29.398845Z",
     "shell.execute_reply": "2023-12-12T12:58:29.397248Z",
     "shell.execute_reply.started": "2023-12-12T12:57:47.727282Z"
    }
   },
   "outputs": [],
   "source": [
    "full_train_df = transform(full_train_df)\n",
    "full_test_df = transform(full_test_df)"
   ]
  },
  {
   "cell_type": "code",
   "execution_count": 54,
   "metadata": {
    "execution": {
     "iopub.execute_input": "2023-12-12T12:58:29.401937Z",
     "iopub.status.busy": "2023-12-12T12:58:29.401538Z",
     "iopub.status.idle": "2023-12-12T12:58:29.409602Z",
     "shell.execute_reply": "2023-12-12T12:58:29.408148Z",
     "shell.execute_reply.started": "2023-12-12T12:58:29.401891Z"
    }
   },
   "outputs": [],
   "source": [
    "def encode_cyclic_feature(df, col, max_vals):\n",
    "    df[col + '_sin'] = np.sin(2 * np.pi * df[col]/max_vals)\n",
    "#     df[col + '_cos'] = np.cos(2 * np.pi * df[col]/max_vals)\n",
    "    del df[col]\n",
    "    return df"
   ]
  },
  {
   "cell_type": "code",
   "execution_count": 55,
   "metadata": {
    "execution": {
     "iopub.execute_input": "2023-12-12T12:58:29.412194Z",
     "iopub.status.busy": "2023-12-12T12:58:29.411685Z",
     "iopub.status.idle": "2023-12-12T12:58:29.461194Z",
     "shell.execute_reply": "2023-12-12T12:58:29.460216Z",
     "shell.execute_reply.started": "2023-12-12T12:58:29.412101Z"
    }
   },
   "outputs": [
    {
     "data": {
      "text/html": [
       "<div>\n",
       "<style scoped>\n",
       "    .dataframe tbody tr th:only-of-type {\n",
       "        vertical-align: middle;\n",
       "    }\n",
       "\n",
       "    .dataframe tbody tr th {\n",
       "        vertical-align: top;\n",
       "    }\n",
       "\n",
       "    .dataframe thead th {\n",
       "        text-align: right;\n",
       "    }\n",
       "</style>\n",
       "<table border=\"1\" class=\"dataframe\">\n",
       "  <thead>\n",
       "    <tr style=\"text-align: right;\">\n",
       "      <th></th>\n",
       "      <th>building_id</th>\n",
       "      <th>meter</th>\n",
       "      <th>timestamp</th>\n",
       "      <th>meter_reading</th>\n",
       "      <th>site_id</th>\n",
       "      <th>primary_use</th>\n",
       "      <th>square_feet</th>\n",
       "      <th>year_built</th>\n",
       "      <th>floor_count</th>\n",
       "      <th>air_temperature</th>\n",
       "      <th>...</th>\n",
       "      <th>precip_depth_1_hr</th>\n",
       "      <th>sea_level_pressure</th>\n",
       "      <th>wind_direction</th>\n",
       "      <th>wind_speed</th>\n",
       "      <th>offset</th>\n",
       "      <th>hour</th>\n",
       "      <th>day</th>\n",
       "      <th>weekday</th>\n",
       "      <th>month</th>\n",
       "      <th>year</th>\n",
       "    </tr>\n",
       "  </thead>\n",
       "  <tbody>\n",
       "    <tr>\n",
       "      <td>0</td>\n",
       "      <td>0</td>\n",
       "      <td>0</td>\n",
       "      <td>2016-01-01</td>\n",
       "      <td>0.0</td>\n",
       "      <td>0</td>\n",
       "      <td>0</td>\n",
       "      <td>8.913550</td>\n",
       "      <td>2008.0</td>\n",
       "      <td>4.0</td>\n",
       "      <td>19.40625</td>\n",
       "      <td>...</td>\n",
       "      <td>0.0</td>\n",
       "      <td>1019.5</td>\n",
       "      <td>0.0</td>\n",
       "      <td>0.0</td>\n",
       "      <td>5.0</td>\n",
       "      <td>0</td>\n",
       "      <td>1</td>\n",
       "      <td>4</td>\n",
       "      <td>1</td>\n",
       "      <td>116</td>\n",
       "    </tr>\n",
       "    <tr>\n",
       "      <td>1</td>\n",
       "      <td>1</td>\n",
       "      <td>0</td>\n",
       "      <td>2016-01-01</td>\n",
       "      <td>0.0</td>\n",
       "      <td>0</td>\n",
       "      <td>0</td>\n",
       "      <td>7.908387</td>\n",
       "      <td>2004.0</td>\n",
       "      <td>4.0</td>\n",
       "      <td>19.40625</td>\n",
       "      <td>...</td>\n",
       "      <td>0.0</td>\n",
       "      <td>1019.5</td>\n",
       "      <td>0.0</td>\n",
       "      <td>0.0</td>\n",
       "      <td>5.0</td>\n",
       "      <td>0</td>\n",
       "      <td>1</td>\n",
       "      <td>4</td>\n",
       "      <td>1</td>\n",
       "      <td>116</td>\n",
       "    </tr>\n",
       "    <tr>\n",
       "      <td>2</td>\n",
       "      <td>2</td>\n",
       "      <td>0</td>\n",
       "      <td>2016-01-01</td>\n",
       "      <td>0.0</td>\n",
       "      <td>0</td>\n",
       "      <td>0</td>\n",
       "      <td>8.589700</td>\n",
       "      <td>1991.0</td>\n",
       "      <td>4.0</td>\n",
       "      <td>19.40625</td>\n",
       "      <td>...</td>\n",
       "      <td>0.0</td>\n",
       "      <td>1019.5</td>\n",
       "      <td>0.0</td>\n",
       "      <td>0.0</td>\n",
       "      <td>5.0</td>\n",
       "      <td>0</td>\n",
       "      <td>1</td>\n",
       "      <td>4</td>\n",
       "      <td>1</td>\n",
       "      <td>116</td>\n",
       "    </tr>\n",
       "    <tr>\n",
       "      <td>3</td>\n",
       "      <td>3</td>\n",
       "      <td>0</td>\n",
       "      <td>2016-01-01</td>\n",
       "      <td>0.0</td>\n",
       "      <td>0</td>\n",
       "      <td>0</td>\n",
       "      <td>10.072597</td>\n",
       "      <td>2002.0</td>\n",
       "      <td>4.0</td>\n",
       "      <td>19.40625</td>\n",
       "      <td>...</td>\n",
       "      <td>0.0</td>\n",
       "      <td>1019.5</td>\n",
       "      <td>0.0</td>\n",
       "      <td>0.0</td>\n",
       "      <td>5.0</td>\n",
       "      <td>0</td>\n",
       "      <td>1</td>\n",
       "      <td>4</td>\n",
       "      <td>1</td>\n",
       "      <td>116</td>\n",
       "    </tr>\n",
       "    <tr>\n",
       "      <td>4</td>\n",
       "      <td>4</td>\n",
       "      <td>0</td>\n",
       "      <td>2016-01-01</td>\n",
       "      <td>0.0</td>\n",
       "      <td>0</td>\n",
       "      <td>0</td>\n",
       "      <td>11.666565</td>\n",
       "      <td>1975.0</td>\n",
       "      <td>4.0</td>\n",
       "      <td>19.40625</td>\n",
       "      <td>...</td>\n",
       "      <td>0.0</td>\n",
       "      <td>1019.5</td>\n",
       "      <td>0.0</td>\n",
       "      <td>0.0</td>\n",
       "      <td>5.0</td>\n",
       "      <td>0</td>\n",
       "      <td>1</td>\n",
       "      <td>4</td>\n",
       "      <td>1</td>\n",
       "      <td>116</td>\n",
       "    </tr>\n",
       "  </tbody>\n",
       "</table>\n",
       "<p>5 rows × 22 columns</p>\n",
       "</div>"
      ],
      "text/plain": [
       "   building_id  meter  timestamp  meter_reading  site_id  primary_use  \\\n",
       "0            0      0 2016-01-01            0.0        0            0   \n",
       "1            1      0 2016-01-01            0.0        0            0   \n",
       "2            2      0 2016-01-01            0.0        0            0   \n",
       "3            3      0 2016-01-01            0.0        0            0   \n",
       "4            4      0 2016-01-01            0.0        0            0   \n",
       "\n",
       "   square_feet  year_built  floor_count  air_temperature  ...  \\\n",
       "0     8.913550      2008.0          4.0         19.40625  ...   \n",
       "1     7.908387      2004.0          4.0         19.40625  ...   \n",
       "2     8.589700      1991.0          4.0         19.40625  ...   \n",
       "3    10.072597      2002.0          4.0         19.40625  ...   \n",
       "4    11.666565      1975.0          4.0         19.40625  ...   \n",
       "\n",
       "   precip_depth_1_hr  sea_level_pressure  wind_direction  wind_speed  offset  \\\n",
       "0                0.0              1019.5             0.0         0.0     5.0   \n",
       "1                0.0              1019.5             0.0         0.0     5.0   \n",
       "2                0.0              1019.5             0.0         0.0     5.0   \n",
       "3                0.0              1019.5             0.0         0.0     5.0   \n",
       "4                0.0              1019.5             0.0         0.0     5.0   \n",
       "\n",
       "   hour  day  weekday  month  year  \n",
       "0     0    1        4      1   116  \n",
       "1     0    1        4      1   116  \n",
       "2     0    1        4      1   116  \n",
       "3     0    1        4      1   116  \n",
       "4     0    1        4      1   116  \n",
       "\n",
       "[5 rows x 22 columns]"
      ]
     },
     "execution_count": 55,
     "metadata": {},
     "output_type": "execute_result"
    }
   ],
   "source": [
    "full_train_df.head()"
   ]
  },
  {
   "cell_type": "code",
   "execution_count": 56,
   "metadata": {
    "execution": {
     "iopub.execute_input": "2023-12-12T12:58:29.463778Z",
     "iopub.status.busy": "2023-12-12T12:58:29.463293Z",
     "iopub.status.idle": "2023-12-12T12:59:47.258921Z",
     "shell.execute_reply": "2023-12-12T12:59:47.257901Z",
     "shell.execute_reply.started": "2023-12-12T12:58:29.463711Z"
    }
   },
   "outputs": [],
   "source": [
    "dates_range = pd.date_range(start='2015-12-31', end='2019-01-01')\n",
    "us_holidays = calendar().holidays(start=dates_range.min(), end=dates_range.max())\n",
    "full_train_df['is_holiday'] = (full_train_df['timestamp'].dt.date.astype('datetime64').isin(us_holidays)).astype(np.int8)\n",
    "full_test_df['is_holiday'] = (full_test_df['timestamp'].dt.date.astype('datetime64').isin(us_holidays)).astype(np.int8)"
   ]
  },
  {
   "cell_type": "code",
   "execution_count": 57,
   "metadata": {
    "execution": {
     "iopub.execute_input": "2023-12-12T12:59:47.261114Z",
     "iopub.status.busy": "2023-12-12T12:59:47.260515Z",
     "iopub.status.idle": "2023-12-12T12:59:54.854271Z",
     "shell.execute_reply": "2023-12-12T12:59:54.852908Z",
     "shell.execute_reply.started": "2023-12-12T12:59:47.261036Z"
    }
   },
   "outputs": [],
   "source": [
    "# Assuming 5 days a week for all the given buildings\n",
    "full_train_df.loc[(full_train_df['weekday'] == 5) | (full_train_df['weekday'] == 6) , 'is_holiday'] = 1\n",
    "full_test_df.loc[(full_test_df['weekday']) == 5 | (full_test_df['weekday'] == 6) , 'is_holiday'] = 1"
   ]
  },
  {
   "cell_type": "code",
   "execution_count": 58,
   "metadata": {
    "execution": {
     "iopub.execute_input": "2023-12-12T12:59:54.856912Z",
     "iopub.status.busy": "2023-12-12T12:59:54.856248Z",
     "iopub.status.idle": "2023-12-12T12:59:54.860766Z",
     "shell.execute_reply": "2023-12-12T12:59:54.859830Z",
     "shell.execute_reply.started": "2023-12-12T12:59:54.856852Z"
    }
   },
   "outputs": [],
   "source": [
    "# full_train_df.loc[(full_train_df['primary_use'] == le.transform(['Education'])[0]) & (full_train_df['month'] >= 6) & (full_train_df['month'] <= 8), 'is_vacation_month'] = np.int8(1)\n",
    "# full_train_df.loc[full_train_df['is_vacation_month']!=1, 'is_vacation_month'] = np.int8(0)"
   ]
  },
  {
   "cell_type": "markdown",
   "metadata": {},
   "source": [
    "### Removing weired data on site_id 0"
   ]
  },
  {
   "cell_type": "code",
   "execution_count": 59,
   "metadata": {
    "execution": {
     "iopub.execute_input": "2023-12-12T12:59:54.862865Z",
     "iopub.status.busy": "2023-12-12T12:59:54.862466Z",
     "iopub.status.idle": "2023-12-12T12:59:54.881807Z",
     "shell.execute_reply": "2023-12-12T12:59:54.880735Z",
     "shell.execute_reply.started": "2023-12-12T12:59:54.862805Z"
    }
   },
   "outputs": [
    {
     "data": {
      "text/plain": [
       "(20112649, 23)"
      ]
     },
     "execution_count": 59,
     "metadata": {},
     "output_type": "execute_result"
    }
   ],
   "source": [
    "full_train_df.shape"
   ]
  },
  {
   "cell_type": "code",
   "execution_count": 60,
   "metadata": {
    "execution": {
     "iopub.execute_input": "2023-12-12T12:59:54.883557Z",
     "iopub.status.busy": "2023-12-12T12:59:54.883195Z",
     "iopub.status.idle": "2023-12-12T12:59:58.050457Z",
     "shell.execute_reply": "2023-12-12T12:59:58.049092Z",
     "shell.execute_reply.started": "2023-12-12T12:59:54.883497Z"
    }
   },
   "outputs": [],
   "source": [
    "full_train_df = full_train_df.query('not (building_id <= 104 & meter == 0 & timestamp <= \"2016-05-20\")')"
   ]
  },
  {
   "cell_type": "code",
   "execution_count": 61,
   "metadata": {
    "execution": {
     "iopub.execute_input": "2023-12-12T12:59:58.052523Z",
     "iopub.status.busy": "2023-12-12T12:59:58.052147Z",
     "iopub.status.idle": "2023-12-12T12:59:58.060925Z",
     "shell.execute_reply": "2023-12-12T12:59:58.059751Z",
     "shell.execute_reply.started": "2023-12-12T12:59:58.052471Z"
    }
   },
   "outputs": [
    {
     "data": {
      "text/plain": [
       "(19766435, 23)"
      ]
     },
     "execution_count": 61,
     "metadata": {},
     "output_type": "execute_result"
    }
   ],
   "source": [
    "full_train_df.shape"
   ]
  },
  {
   "cell_type": "code",
   "execution_count": 62,
   "metadata": {
    "execution": {
     "iopub.execute_input": "2023-12-12T12:59:58.062948Z",
     "iopub.status.busy": "2023-12-12T12:59:58.062353Z",
     "iopub.status.idle": "2023-12-12T13:00:03.509005Z",
     "shell.execute_reply": "2023-12-12T13:00:03.507634Z",
     "shell.execute_reply.started": "2023-12-12T12:59:58.062622Z"
    }
   },
   "outputs": [
    {
     "name": "stdout",
     "output_type": "stream",
     "text": [
      "Shape of training dataset: (19766435, 22)\n",
      "Shape of testing dataset: (41697600, 22)\n"
     ]
    }
   ],
   "source": [
    "full_test_df = full_test_df.drop(['timestamp'], axis=1)\n",
    "full_train_df = full_train_df.drop(['timestamp'], axis=1)\n",
    "print (f'Shape of training dataset: {full_train_df.shape}')\n",
    "print (f'Shape of testing dataset: {full_test_df.shape}')"
   ]
  },
  {
   "cell_type": "code",
   "execution_count": 63,
   "metadata": {
    "execution": {
     "iopub.execute_input": "2023-12-12T13:00:03.511403Z",
     "iopub.status.busy": "2023-12-12T13:00:03.510955Z",
     "iopub.status.idle": "2023-12-12T13:00:03.547836Z",
     "shell.execute_reply": "2023-12-12T13:00:03.546491Z",
     "shell.execute_reply.started": "2023-12-12T13:00:03.511327Z"
    }
   },
   "outputs": [
    {
     "data": {
      "text/html": [
       "<div>\n",
       "<style scoped>\n",
       "    .dataframe tbody tr th:only-of-type {\n",
       "        vertical-align: middle;\n",
       "    }\n",
       "\n",
       "    .dataframe tbody tr th {\n",
       "        vertical-align: top;\n",
       "    }\n",
       "\n",
       "    .dataframe thead th {\n",
       "        text-align: right;\n",
       "    }\n",
       "</style>\n",
       "<table border=\"1\" class=\"dataframe\">\n",
       "  <thead>\n",
       "    <tr style=\"text-align: right;\">\n",
       "      <th></th>\n",
       "      <th>building_id</th>\n",
       "      <th>meter</th>\n",
       "      <th>meter_reading</th>\n",
       "      <th>site_id</th>\n",
       "      <th>primary_use</th>\n",
       "      <th>square_feet</th>\n",
       "      <th>year_built</th>\n",
       "      <th>floor_count</th>\n",
       "      <th>air_temperature</th>\n",
       "      <th>cloud_coverage</th>\n",
       "      <th>...</th>\n",
       "      <th>sea_level_pressure</th>\n",
       "      <th>wind_direction</th>\n",
       "      <th>wind_speed</th>\n",
       "      <th>offset</th>\n",
       "      <th>hour</th>\n",
       "      <th>day</th>\n",
       "      <th>weekday</th>\n",
       "      <th>month</th>\n",
       "      <th>year</th>\n",
       "      <th>is_holiday</th>\n",
       "    </tr>\n",
       "  </thead>\n",
       "  <tbody>\n",
       "    <tr>\n",
       "      <td>20215251</td>\n",
       "      <td>1064</td>\n",
       "      <td>0</td>\n",
       "      <td>5.042969</td>\n",
       "      <td>12</td>\n",
       "      <td>0</td>\n",
       "      <td>11.784570</td>\n",
       "      <td>1968.0</td>\n",
       "      <td>4.0</td>\n",
       "      <td>6.5</td>\n",
       "      <td>8.0</td>\n",
       "      <td>...</td>\n",
       "      <td>1019.5</td>\n",
       "      <td>340.0</td>\n",
       "      <td>6.0</td>\n",
       "      <td>0.0</td>\n",
       "      <td>23</td>\n",
       "      <td>31</td>\n",
       "      <td>5</td>\n",
       "      <td>12</td>\n",
       "      <td>116</td>\n",
       "      <td>1</td>\n",
       "    </tr>\n",
       "    <tr>\n",
       "      <td>20215252</td>\n",
       "      <td>1065</td>\n",
       "      <td>0</td>\n",
       "      <td>1.827148</td>\n",
       "      <td>12</td>\n",
       "      <td>6</td>\n",
       "      <td>9.405249</td>\n",
       "      <td>1968.0</td>\n",
       "      <td>4.0</td>\n",
       "      <td>6.5</td>\n",
       "      <td>8.0</td>\n",
       "      <td>...</td>\n",
       "      <td>1019.5</td>\n",
       "      <td>340.0</td>\n",
       "      <td>6.0</td>\n",
       "      <td>0.0</td>\n",
       "      <td>23</td>\n",
       "      <td>31</td>\n",
       "      <td>5</td>\n",
       "      <td>12</td>\n",
       "      <td>116</td>\n",
       "      <td>1</td>\n",
       "    </tr>\n",
       "    <tr>\n",
       "      <td>20215253</td>\n",
       "      <td>1066</td>\n",
       "      <td>0</td>\n",
       "      <td>3.291016</td>\n",
       "      <td>12</td>\n",
       "      <td>0</td>\n",
       "      <td>10.929529</td>\n",
       "      <td>1968.0</td>\n",
       "      <td>4.0</td>\n",
       "      <td>6.5</td>\n",
       "      <td>8.0</td>\n",
       "      <td>...</td>\n",
       "      <td>1019.5</td>\n",
       "      <td>340.0</td>\n",
       "      <td>6.0</td>\n",
       "      <td>0.0</td>\n",
       "      <td>23</td>\n",
       "      <td>31</td>\n",
       "      <td>5</td>\n",
       "      <td>12</td>\n",
       "      <td>116</td>\n",
       "      <td>1</td>\n",
       "    </tr>\n",
       "    <tr>\n",
       "      <td>20215254</td>\n",
       "      <td>1067</td>\n",
       "      <td>0</td>\n",
       "      <td>5.445312</td>\n",
       "      <td>12</td>\n",
       "      <td>0</td>\n",
       "      <td>11.741661</td>\n",
       "      <td>1968.0</td>\n",
       "      <td>4.0</td>\n",
       "      <td>6.5</td>\n",
       "      <td>8.0</td>\n",
       "      <td>...</td>\n",
       "      <td>1019.5</td>\n",
       "      <td>340.0</td>\n",
       "      <td>6.0</td>\n",
       "      <td>0.0</td>\n",
       "      <td>23</td>\n",
       "      <td>31</td>\n",
       "      <td>5</td>\n",
       "      <td>12</td>\n",
       "      <td>116</td>\n",
       "      <td>1</td>\n",
       "    </tr>\n",
       "    <tr>\n",
       "      <td>20215255</td>\n",
       "      <td>1068</td>\n",
       "      <td>0</td>\n",
       "      <td>4.050781</td>\n",
       "      <td>12</td>\n",
       "      <td>0</td>\n",
       "      <td>11.634754</td>\n",
       "      <td>1968.0</td>\n",
       "      <td>4.0</td>\n",
       "      <td>6.5</td>\n",
       "      <td>8.0</td>\n",
       "      <td>...</td>\n",
       "      <td>1019.5</td>\n",
       "      <td>340.0</td>\n",
       "      <td>6.0</td>\n",
       "      <td>0.0</td>\n",
       "      <td>23</td>\n",
       "      <td>31</td>\n",
       "      <td>5</td>\n",
       "      <td>12</td>\n",
       "      <td>116</td>\n",
       "      <td>1</td>\n",
       "    </tr>\n",
       "  </tbody>\n",
       "</table>\n",
       "<p>5 rows × 22 columns</p>\n",
       "</div>"
      ],
      "text/plain": [
       "          building_id  meter  meter_reading  site_id  primary_use  \\\n",
       "20215251         1064      0       5.042969       12            0   \n",
       "20215252         1065      0       1.827148       12            6   \n",
       "20215253         1066      0       3.291016       12            0   \n",
       "20215254         1067      0       5.445312       12            0   \n",
       "20215255         1068      0       4.050781       12            0   \n",
       "\n",
       "          square_feet  year_built  floor_count  air_temperature  \\\n",
       "20215251    11.784570      1968.0          4.0              6.5   \n",
       "20215252     9.405249      1968.0          4.0              6.5   \n",
       "20215253    10.929529      1968.0          4.0              6.5   \n",
       "20215254    11.741661      1968.0          4.0              6.5   \n",
       "20215255    11.634754      1968.0          4.0              6.5   \n",
       "\n",
       "          cloud_coverage  ...  sea_level_pressure  wind_direction  wind_speed  \\\n",
       "20215251             8.0  ...              1019.5           340.0         6.0   \n",
       "20215252             8.0  ...              1019.5           340.0         6.0   \n",
       "20215253             8.0  ...              1019.5           340.0         6.0   \n",
       "20215254             8.0  ...              1019.5           340.0         6.0   \n",
       "20215255             8.0  ...              1019.5           340.0         6.0   \n",
       "\n",
       "          offset  hour  day  weekday  month  year  is_holiday  \n",
       "20215251     0.0    23   31        5     12   116           1  \n",
       "20215252     0.0    23   31        5     12   116           1  \n",
       "20215253     0.0    23   31        5     12   116           1  \n",
       "20215254     0.0    23   31        5     12   116           1  \n",
       "20215255     0.0    23   31        5     12   116           1  \n",
       "\n",
       "[5 rows x 22 columns]"
      ]
     },
     "execution_count": 63,
     "metadata": {},
     "output_type": "execute_result"
    }
   ],
   "source": [
    "full_train_df.tail()"
   ]
  },
  {
   "cell_type": "code",
   "execution_count": 64,
   "metadata": {
    "execution": {
     "iopub.execute_input": "2023-12-12T13:00:03.550403Z",
     "iopub.status.busy": "2023-12-12T13:00:03.549731Z",
     "iopub.status.idle": "2023-12-12T13:00:03.591975Z",
     "shell.execute_reply": "2023-12-12T13:00:03.590926Z",
     "shell.execute_reply.started": "2023-12-12T13:00:03.550166Z"
    }
   },
   "outputs": [
    {
     "data": {
      "text/html": [
       "<div>\n",
       "<style scoped>\n",
       "    .dataframe tbody tr th:only-of-type {\n",
       "        vertical-align: middle;\n",
       "    }\n",
       "\n",
       "    .dataframe tbody tr th {\n",
       "        vertical-align: top;\n",
       "    }\n",
       "\n",
       "    .dataframe thead th {\n",
       "        text-align: right;\n",
       "    }\n",
       "</style>\n",
       "<table border=\"1\" class=\"dataframe\">\n",
       "  <thead>\n",
       "    <tr style=\"text-align: right;\">\n",
       "      <th></th>\n",
       "      <th>building_id</th>\n",
       "      <th>meter</th>\n",
       "      <th>meter_reading</th>\n",
       "      <th>site_id</th>\n",
       "      <th>primary_use</th>\n",
       "      <th>square_feet</th>\n",
       "      <th>year_built</th>\n",
       "      <th>floor_count</th>\n",
       "      <th>air_temperature</th>\n",
       "      <th>cloud_coverage</th>\n",
       "      <th>...</th>\n",
       "      <th>sea_level_pressure</th>\n",
       "      <th>wind_direction</th>\n",
       "      <th>wind_speed</th>\n",
       "      <th>offset</th>\n",
       "      <th>hour</th>\n",
       "      <th>day</th>\n",
       "      <th>weekday</th>\n",
       "      <th>month</th>\n",
       "      <th>year</th>\n",
       "      <th>is_holiday</th>\n",
       "    </tr>\n",
       "  </thead>\n",
       "  <tbody>\n",
       "    <tr>\n",
       "      <td>20215251</td>\n",
       "      <td>1064</td>\n",
       "      <td>0</td>\n",
       "      <td>5.042969</td>\n",
       "      <td>12</td>\n",
       "      <td>0</td>\n",
       "      <td>11.784570</td>\n",
       "      <td>1968.0</td>\n",
       "      <td>4.0</td>\n",
       "      <td>6.5</td>\n",
       "      <td>8.0</td>\n",
       "      <td>...</td>\n",
       "      <td>1019.5</td>\n",
       "      <td>340.0</td>\n",
       "      <td>6.0</td>\n",
       "      <td>0.0</td>\n",
       "      <td>23</td>\n",
       "      <td>31</td>\n",
       "      <td>5</td>\n",
       "      <td>12</td>\n",
       "      <td>116</td>\n",
       "      <td>1</td>\n",
       "    </tr>\n",
       "    <tr>\n",
       "      <td>20215252</td>\n",
       "      <td>1065</td>\n",
       "      <td>0</td>\n",
       "      <td>1.827148</td>\n",
       "      <td>12</td>\n",
       "      <td>6</td>\n",
       "      <td>9.405249</td>\n",
       "      <td>1968.0</td>\n",
       "      <td>4.0</td>\n",
       "      <td>6.5</td>\n",
       "      <td>8.0</td>\n",
       "      <td>...</td>\n",
       "      <td>1019.5</td>\n",
       "      <td>340.0</td>\n",
       "      <td>6.0</td>\n",
       "      <td>0.0</td>\n",
       "      <td>23</td>\n",
       "      <td>31</td>\n",
       "      <td>5</td>\n",
       "      <td>12</td>\n",
       "      <td>116</td>\n",
       "      <td>1</td>\n",
       "    </tr>\n",
       "    <tr>\n",
       "      <td>20215253</td>\n",
       "      <td>1066</td>\n",
       "      <td>0</td>\n",
       "      <td>3.291016</td>\n",
       "      <td>12</td>\n",
       "      <td>0</td>\n",
       "      <td>10.929529</td>\n",
       "      <td>1968.0</td>\n",
       "      <td>4.0</td>\n",
       "      <td>6.5</td>\n",
       "      <td>8.0</td>\n",
       "      <td>...</td>\n",
       "      <td>1019.5</td>\n",
       "      <td>340.0</td>\n",
       "      <td>6.0</td>\n",
       "      <td>0.0</td>\n",
       "      <td>23</td>\n",
       "      <td>31</td>\n",
       "      <td>5</td>\n",
       "      <td>12</td>\n",
       "      <td>116</td>\n",
       "      <td>1</td>\n",
       "    </tr>\n",
       "    <tr>\n",
       "      <td>20215254</td>\n",
       "      <td>1067</td>\n",
       "      <td>0</td>\n",
       "      <td>5.445312</td>\n",
       "      <td>12</td>\n",
       "      <td>0</td>\n",
       "      <td>11.741661</td>\n",
       "      <td>1968.0</td>\n",
       "      <td>4.0</td>\n",
       "      <td>6.5</td>\n",
       "      <td>8.0</td>\n",
       "      <td>...</td>\n",
       "      <td>1019.5</td>\n",
       "      <td>340.0</td>\n",
       "      <td>6.0</td>\n",
       "      <td>0.0</td>\n",
       "      <td>23</td>\n",
       "      <td>31</td>\n",
       "      <td>5</td>\n",
       "      <td>12</td>\n",
       "      <td>116</td>\n",
       "      <td>1</td>\n",
       "    </tr>\n",
       "    <tr>\n",
       "      <td>20215255</td>\n",
       "      <td>1068</td>\n",
       "      <td>0</td>\n",
       "      <td>4.050781</td>\n",
       "      <td>12</td>\n",
       "      <td>0</td>\n",
       "      <td>11.634754</td>\n",
       "      <td>1968.0</td>\n",
       "      <td>4.0</td>\n",
       "      <td>6.5</td>\n",
       "      <td>8.0</td>\n",
       "      <td>...</td>\n",
       "      <td>1019.5</td>\n",
       "      <td>340.0</td>\n",
       "      <td>6.0</td>\n",
       "      <td>0.0</td>\n",
       "      <td>23</td>\n",
       "      <td>31</td>\n",
       "      <td>5</td>\n",
       "      <td>12</td>\n",
       "      <td>116</td>\n",
       "      <td>1</td>\n",
       "    </tr>\n",
       "  </tbody>\n",
       "</table>\n",
       "<p>5 rows × 22 columns</p>\n",
       "</div>"
      ],
      "text/plain": [
       "          building_id  meter  meter_reading  site_id  primary_use  \\\n",
       "20215251         1064      0       5.042969       12            0   \n",
       "20215252         1065      0       1.827148       12            6   \n",
       "20215253         1066      0       3.291016       12            0   \n",
       "20215254         1067      0       5.445312       12            0   \n",
       "20215255         1068      0       4.050781       12            0   \n",
       "\n",
       "          square_feet  year_built  floor_count  air_temperature  \\\n",
       "20215251    11.784570      1968.0          4.0              6.5   \n",
       "20215252     9.405249      1968.0          4.0              6.5   \n",
       "20215253    10.929529      1968.0          4.0              6.5   \n",
       "20215254    11.741661      1968.0          4.0              6.5   \n",
       "20215255    11.634754      1968.0          4.0              6.5   \n",
       "\n",
       "          cloud_coverage  ...  sea_level_pressure  wind_direction  wind_speed  \\\n",
       "20215251             8.0  ...              1019.5           340.0         6.0   \n",
       "20215252             8.0  ...              1019.5           340.0         6.0   \n",
       "20215253             8.0  ...              1019.5           340.0         6.0   \n",
       "20215254             8.0  ...              1019.5           340.0         6.0   \n",
       "20215255             8.0  ...              1019.5           340.0         6.0   \n",
       "\n",
       "          offset  hour  day  weekday  month  year  is_holiday  \n",
       "20215251     0.0    23   31        5     12   116           1  \n",
       "20215252     0.0    23   31        5     12   116           1  \n",
       "20215253     0.0    23   31        5     12   116           1  \n",
       "20215254     0.0    23   31        5     12   116           1  \n",
       "20215255     0.0    23   31        5     12   116           1  \n",
       "\n",
       "[5 rows x 22 columns]"
      ]
     },
     "execution_count": 64,
     "metadata": {},
     "output_type": "execute_result"
    }
   ],
   "source": [
    "full_train_df.tail()"
   ]
  },
  {
   "cell_type": "code",
   "execution_count": 65,
   "metadata": {
    "execution": {
     "iopub.execute_input": "2023-12-12T13:00:03.594387Z",
     "iopub.status.busy": "2023-12-12T13:00:03.593997Z",
     "iopub.status.idle": "2023-12-12T13:00:17.135163Z",
     "shell.execute_reply": "2023-12-12T13:00:17.134276Z",
     "shell.execute_reply.started": "2023-12-12T13:00:03.594319Z"
    }
   },
   "outputs": [
    {
     "name": "stdout",
     "output_type": "stream",
     "text": [
      "Mem. usage decreased to 810.58 Mb (21.8% reduction)\n",
      "Mem. usage decreased to 1789.47 Mb (21.1% reduction)\n"
     ]
    },
    {
     "data": {
      "text/plain": [
       "11247"
      ]
     },
     "execution_count": 65,
     "metadata": {},
     "output_type": "execute_result"
    }
   ],
   "source": [
    "## Reducing memory\n",
    "full_train_df = reduce_mem_usage(full_train_df)\n",
    "full_test_df = reduce_mem_usage(full_test_df)\n",
    "gc.collect()"
   ]
  },
  {
   "cell_type": "code",
   "execution_count": 66,
   "metadata": {
    "execution": {
     "iopub.execute_input": "2023-12-12T13:00:17.137386Z",
     "iopub.status.busy": "2023-12-12T13:00:17.136783Z",
     "iopub.status.idle": "2023-12-12T13:00:29.241842Z",
     "shell.execute_reply": "2023-12-12T13:00:29.240847Z",
     "shell.execute_reply.started": "2023-12-12T13:00:17.137329Z"
    }
   },
   "outputs": [],
   "source": [
    "beaufort = [(0, 0, 0.3), (1, 0.3, 1.6), (2, 1.6, 3.4), (3, 3.4, 5.5), (4, 5.5, 8), (5, 8, 10.8), (6, 10.8, 13.9), \n",
    "          (7, 13.9, 17.2), (8, 17.2, 20.8), (9, 20.8, 24.5), (10, 24.5, 28.5), (11, 28.5, 33), (12, 33, 200)]\n",
    "\n",
    "for item in beaufort:\n",
    "    full_train_df.loc[(full_train_df['wind_speed']>=item[1]) & (full_train_df['wind_speed']<item[2]), 'beaufort_scale'] = item[0]"
   ]
  },
  {
   "cell_type": "code",
   "execution_count": 67,
   "metadata": {
    "execution": {
     "iopub.execute_input": "2023-12-12T13:00:29.243921Z",
     "iopub.status.busy": "2023-12-12T13:00:29.243500Z",
     "iopub.status.idle": "2023-12-12T13:00:44.819167Z",
     "shell.execute_reply": "2023-12-12T13:00:44.817483Z",
     "shell.execute_reply.started": "2023-12-12T13:00:29.243839Z"
    }
   },
   "outputs": [],
   "source": [
    "full_train_df['group'] = full_train_df['month']\n",
    "full_train_df['group'].replace((1,2,3,4,5,6), 1,inplace=True)\n",
    "full_train_df['group'].replace((7,8,9,10,11,12), 2, inplace=True)"
   ]
  },
  {
   "cell_type": "code",
   "execution_count": 68,
   "metadata": {
    "execution": {
     "iopub.execute_input": "2023-12-12T13:00:44.822214Z",
     "iopub.status.busy": "2023-12-12T13:00:44.821683Z",
     "iopub.status.idle": "2023-12-12T13:00:46.923408Z",
     "shell.execute_reply": "2023-12-12T13:00:46.922161Z",
     "shell.execute_reply.started": "2023-12-12T13:00:44.822140Z"
    }
   },
   "outputs": [],
   "source": [
    "full_train_df = encode_cyclic_feature(full_train_df, 'weekday', 7)\n",
    "full_train_df = encode_cyclic_feature(full_train_df, 'hour', 24)\n",
    "full_train_df = encode_cyclic_feature(full_train_df, 'day', 31)\n",
    "full_train_df = encode_cyclic_feature(full_train_df, 'month', 12)"
   ]
  },
  {
   "cell_type": "code",
   "execution_count": 69,
   "metadata": {
    "execution": {
     "iopub.execute_input": "2023-12-12T13:00:46.925965Z",
     "iopub.status.busy": "2023-12-12T13:00:46.925305Z",
     "iopub.status.idle": "2023-12-12T13:00:53.009722Z",
     "shell.execute_reply": "2023-12-12T13:00:53.008584Z",
     "shell.execute_reply.started": "2023-12-12T13:00:46.925724Z"
    }
   },
   "outputs": [
    {
     "name": "stdout",
     "output_type": "stream",
     "text": [
      "Mem. usage decreased to 942.54 Mb (42.5% reduction)\n"
     ]
    }
   ],
   "source": [
    "full_train_df = reduce_mem_usage(full_train_df)"
   ]
  },
  {
   "cell_type": "code",
   "execution_count": 70,
   "metadata": {
    "execution": {
     "iopub.execute_input": "2023-12-12T13:00:53.012046Z",
     "iopub.status.busy": "2023-12-12T13:00:53.011685Z",
     "iopub.status.idle": "2023-12-12T13:00:53.019835Z",
     "shell.execute_reply": "2023-12-12T13:00:53.018402Z",
     "shell.execute_reply.started": "2023-12-12T13:00:53.011978Z"
    }
   },
   "outputs": [],
   "source": [
    "categoricals = ['site_id', 'building_id', 'primary_use', 'meter',  'wind_direction', 'is_holiday']\n",
    "drop_cols = ['sea_level_pressure', 'wind_speed']\n",
    "numericals = ['square_feet', 'year_built', 'air_temperature', 'cloud_coverage',\n",
    "              'dew_temperature', 'precip_depth_1_hr', 'floor_count', 'beaufort_scale', 'weekday_sin', 'day_sin', 'hour_sin', 'month_sin']\n",
    "\n",
    "feat_cols = categoricals + numericals"
   ]
  },
  {
   "cell_type": "code",
   "execution_count": 71,
   "metadata": {
    "execution": {
     "iopub.execute_input": "2023-12-12T13:00:53.022699Z",
     "iopub.status.busy": "2023-12-12T13:00:53.022184Z",
     "iopub.status.idle": "2023-12-12T13:00:53.087130Z",
     "shell.execute_reply": "2023-12-12T13:00:53.085930Z",
     "shell.execute_reply.started": "2023-12-12T13:00:53.022619Z"
    }
   },
   "outputs": [
    {
     "data": {
      "text/html": [
       "<div>\n",
       "<style scoped>\n",
       "    .dataframe tbody tr th:only-of-type {\n",
       "        vertical-align: middle;\n",
       "    }\n",
       "\n",
       "    .dataframe tbody tr th {\n",
       "        vertical-align: top;\n",
       "    }\n",
       "\n",
       "    .dataframe thead th {\n",
       "        text-align: right;\n",
       "    }\n",
       "</style>\n",
       "<table border=\"1\" class=\"dataframe\">\n",
       "  <thead>\n",
       "    <tr style=\"text-align: right;\">\n",
       "      <th></th>\n",
       "      <th>building_id</th>\n",
       "      <th>meter</th>\n",
       "      <th>meter_reading</th>\n",
       "      <th>site_id</th>\n",
       "      <th>primary_use</th>\n",
       "      <th>square_feet</th>\n",
       "      <th>year_built</th>\n",
       "      <th>floor_count</th>\n",
       "      <th>air_temperature</th>\n",
       "      <th>cloud_coverage</th>\n",
       "      <th>...</th>\n",
       "      <th>wind_speed</th>\n",
       "      <th>offset</th>\n",
       "      <th>year</th>\n",
       "      <th>is_holiday</th>\n",
       "      <th>beaufort_scale</th>\n",
       "      <th>group</th>\n",
       "      <th>weekday_sin</th>\n",
       "      <th>hour_sin</th>\n",
       "      <th>day_sin</th>\n",
       "      <th>month_sin</th>\n",
       "    </tr>\n",
       "  </thead>\n",
       "  <tbody>\n",
       "    <tr>\n",
       "      <td>20215251</td>\n",
       "      <td>1064</td>\n",
       "      <td>0</td>\n",
       "      <td>5.042969</td>\n",
       "      <td>12</td>\n",
       "      <td>0</td>\n",
       "      <td>11.781250</td>\n",
       "      <td>1968.0</td>\n",
       "      <td>4.0</td>\n",
       "      <td>6.5</td>\n",
       "      <td>8.0</td>\n",
       "      <td>...</td>\n",
       "      <td>6.0</td>\n",
       "      <td>0.0</td>\n",
       "      <td>116</td>\n",
       "      <td>1</td>\n",
       "      <td>4.0</td>\n",
       "      <td>2</td>\n",
       "      <td>-0.975098</td>\n",
       "      <td>-0.258789</td>\n",
       "      <td>-0.0</td>\n",
       "      <td>-0.0</td>\n",
       "    </tr>\n",
       "    <tr>\n",
       "      <td>20215252</td>\n",
       "      <td>1065</td>\n",
       "      <td>0</td>\n",
       "      <td>1.827148</td>\n",
       "      <td>12</td>\n",
       "      <td>6</td>\n",
       "      <td>9.406250</td>\n",
       "      <td>1968.0</td>\n",
       "      <td>4.0</td>\n",
       "      <td>6.5</td>\n",
       "      <td>8.0</td>\n",
       "      <td>...</td>\n",
       "      <td>6.0</td>\n",
       "      <td>0.0</td>\n",
       "      <td>116</td>\n",
       "      <td>1</td>\n",
       "      <td>4.0</td>\n",
       "      <td>2</td>\n",
       "      <td>-0.975098</td>\n",
       "      <td>-0.258789</td>\n",
       "      <td>-0.0</td>\n",
       "      <td>-0.0</td>\n",
       "    </tr>\n",
       "    <tr>\n",
       "      <td>20215253</td>\n",
       "      <td>1066</td>\n",
       "      <td>0</td>\n",
       "      <td>3.291016</td>\n",
       "      <td>12</td>\n",
       "      <td>0</td>\n",
       "      <td>10.929688</td>\n",
       "      <td>1968.0</td>\n",
       "      <td>4.0</td>\n",
       "      <td>6.5</td>\n",
       "      <td>8.0</td>\n",
       "      <td>...</td>\n",
       "      <td>6.0</td>\n",
       "      <td>0.0</td>\n",
       "      <td>116</td>\n",
       "      <td>1</td>\n",
       "      <td>4.0</td>\n",
       "      <td>2</td>\n",
       "      <td>-0.975098</td>\n",
       "      <td>-0.258789</td>\n",
       "      <td>-0.0</td>\n",
       "      <td>-0.0</td>\n",
       "    </tr>\n",
       "    <tr>\n",
       "      <td>20215254</td>\n",
       "      <td>1067</td>\n",
       "      <td>0</td>\n",
       "      <td>5.445312</td>\n",
       "      <td>12</td>\n",
       "      <td>0</td>\n",
       "      <td>11.742188</td>\n",
       "      <td>1968.0</td>\n",
       "      <td>4.0</td>\n",
       "      <td>6.5</td>\n",
       "      <td>8.0</td>\n",
       "      <td>...</td>\n",
       "      <td>6.0</td>\n",
       "      <td>0.0</td>\n",
       "      <td>116</td>\n",
       "      <td>1</td>\n",
       "      <td>4.0</td>\n",
       "      <td>2</td>\n",
       "      <td>-0.975098</td>\n",
       "      <td>-0.258789</td>\n",
       "      <td>-0.0</td>\n",
       "      <td>-0.0</td>\n",
       "    </tr>\n",
       "    <tr>\n",
       "      <td>20215255</td>\n",
       "      <td>1068</td>\n",
       "      <td>0</td>\n",
       "      <td>4.050781</td>\n",
       "      <td>12</td>\n",
       "      <td>0</td>\n",
       "      <td>11.632812</td>\n",
       "      <td>1968.0</td>\n",
       "      <td>4.0</td>\n",
       "      <td>6.5</td>\n",
       "      <td>8.0</td>\n",
       "      <td>...</td>\n",
       "      <td>6.0</td>\n",
       "      <td>0.0</td>\n",
       "      <td>116</td>\n",
       "      <td>1</td>\n",
       "      <td>4.0</td>\n",
       "      <td>2</td>\n",
       "      <td>-0.975098</td>\n",
       "      <td>-0.258789</td>\n",
       "      <td>-0.0</td>\n",
       "      <td>-0.0</td>\n",
       "    </tr>\n",
       "  </tbody>\n",
       "</table>\n",
       "<p>5 rows × 24 columns</p>\n",
       "</div>"
      ],
      "text/plain": [
       "          building_id  meter  meter_reading  site_id  primary_use  \\\n",
       "20215251         1064      0       5.042969       12            0   \n",
       "20215252         1065      0       1.827148       12            6   \n",
       "20215253         1066      0       3.291016       12            0   \n",
       "20215254         1067      0       5.445312       12            0   \n",
       "20215255         1068      0       4.050781       12            0   \n",
       "\n",
       "          square_feet  year_built  floor_count  air_temperature  \\\n",
       "20215251    11.781250      1968.0          4.0              6.5   \n",
       "20215252     9.406250      1968.0          4.0              6.5   \n",
       "20215253    10.929688      1968.0          4.0              6.5   \n",
       "20215254    11.742188      1968.0          4.0              6.5   \n",
       "20215255    11.632812      1968.0          4.0              6.5   \n",
       "\n",
       "          cloud_coverage  ...  wind_speed  offset  year  is_holiday  \\\n",
       "20215251             8.0  ...         6.0     0.0   116           1   \n",
       "20215252             8.0  ...         6.0     0.0   116           1   \n",
       "20215253             8.0  ...         6.0     0.0   116           1   \n",
       "20215254             8.0  ...         6.0     0.0   116           1   \n",
       "20215255             8.0  ...         6.0     0.0   116           1   \n",
       "\n",
       "          beaufort_scale  group  weekday_sin  hour_sin  day_sin  month_sin  \n",
       "20215251             4.0      2    -0.975098 -0.258789     -0.0       -0.0  \n",
       "20215252             4.0      2    -0.975098 -0.258789     -0.0       -0.0  \n",
       "20215253             4.0      2    -0.975098 -0.258789     -0.0       -0.0  \n",
       "20215254             4.0      2    -0.975098 -0.258789     -0.0       -0.0  \n",
       "20215255             4.0      2    -0.975098 -0.258789     -0.0       -0.0  \n",
       "\n",
       "[5 rows x 24 columns]"
      ]
     },
     "execution_count": 71,
     "metadata": {},
     "output_type": "execute_result"
    }
   ],
   "source": [
    "full_train_df.tail()"
   ]
  },
  {
   "cell_type": "code",
   "execution_count": 72,
   "metadata": {
    "execution": {
     "iopub.execute_input": "2023-12-12T13:00:53.088968Z",
     "iopub.status.busy": "2023-12-12T13:00:53.088659Z",
     "iopub.status.idle": "2023-12-12T13:01:00.058855Z",
     "shell.execute_reply": "2023-12-12T13:01:00.057904Z",
     "shell.execute_reply.started": "2023-12-12T13:00:53.088917Z"
    }
   },
   "outputs": [
    {
     "name": "stdout",
     "output_type": "stream",
     "text": [
      "Mem. usage decreased to 942.54 Mb (0.0% reduction)\n"
     ]
    },
    {
     "data": {
      "text/plain": [
       "0"
      ]
     },
     "execution_count": 72,
     "metadata": {},
     "output_type": "execute_result"
    }
   ],
   "source": [
    "full_train_df = reduce_mem_usage(full_train_df)\n",
    "gc.collect()"
   ]
  },
  {
   "cell_type": "code",
   "execution_count": 73,
   "metadata": {
    "execution": {
     "iopub.execute_input": "2023-12-12T13:01:00.061302Z",
     "iopub.status.busy": "2023-12-12T13:01:00.060895Z",
     "iopub.status.idle": "2023-12-12T13:01:00.420586Z",
     "shell.execute_reply": "2023-12-12T13:01:00.419602Z",
     "shell.execute_reply.started": "2023-12-12T13:01:00.061230Z"
    }
   },
   "outputs": [],
   "source": [
    "target = full_train_df[\"meter_reading\"]\n",
    "del full_train_df[\"meter_reading\"]"
   ]
  },
  {
   "cell_type": "code",
   "execution_count": 74,
   "metadata": {
    "execution": {
     "iopub.execute_input": "2023-12-12T13:01:00.424170Z",
     "iopub.status.busy": "2023-12-12T13:01:00.423717Z",
     "iopub.status.idle": "2023-12-12T13:01:02.805287Z",
     "shell.execute_reply": "2023-12-12T13:01:02.804085Z",
     "shell.execute_reply.started": "2023-12-12T13:01:00.424099Z"
    }
   },
   "outputs": [
    {
     "data": {
      "text/plain": [
       "0"
      ]
     },
     "execution_count": 74,
     "metadata": {},
     "output_type": "execute_result"
    }
   ],
   "source": [
    "full_train_df.drop(drop_cols, axis=1)\n",
    "gc.collect()"
   ]
  },
  {
   "cell_type": "code",
   "execution_count": 75,
   "metadata": {
    "execution": {
     "iopub.execute_input": "2023-12-12T13:01:02.807262Z",
     "iopub.status.busy": "2023-12-12T13:01:02.806858Z",
     "iopub.status.idle": "2023-12-12T13:01:02.811382Z",
     "shell.execute_reply": "2023-12-12T13:01:02.810252Z",
     "shell.execute_reply.started": "2023-12-12T13:01:02.807191Z"
    }
   },
   "outputs": [],
   "source": [
    "# Save the testing dataset to freeup the RAM. We'll read after training\n",
    "# full_test_df.to_pickle('full_test_df.pkl')\n",
    "# del full_test_df\n",
    "# gc.collect()"
   ]
  },
  {
   "cell_type": "code",
   "execution_count": 76,
   "metadata": {
    "execution": {
     "iopub.execute_input": "2023-12-12T13:01:02.813823Z",
     "iopub.status.busy": "2023-12-12T13:01:02.813196Z",
     "iopub.status.idle": "2023-12-12T13:01:02.857068Z",
     "shell.execute_reply": "2023-12-12T13:01:02.855884Z",
     "shell.execute_reply.started": "2023-12-12T13:01:02.813735Z"
    }
   },
   "outputs": [
    {
     "data": {
      "text/html": [
       "<div>\n",
       "<style scoped>\n",
       "    .dataframe tbody tr th:only-of-type {\n",
       "        vertical-align: middle;\n",
       "    }\n",
       "\n",
       "    .dataframe tbody tr th {\n",
       "        vertical-align: top;\n",
       "    }\n",
       "\n",
       "    .dataframe thead th {\n",
       "        text-align: right;\n",
       "    }\n",
       "</style>\n",
       "<table border=\"1\" class=\"dataframe\">\n",
       "  <thead>\n",
       "    <tr style=\"text-align: right;\">\n",
       "      <th></th>\n",
       "      <th>building_id</th>\n",
       "      <th>meter</th>\n",
       "      <th>site_id</th>\n",
       "      <th>primary_use</th>\n",
       "      <th>square_feet</th>\n",
       "      <th>year_built</th>\n",
       "      <th>floor_count</th>\n",
       "      <th>air_temperature</th>\n",
       "      <th>cloud_coverage</th>\n",
       "      <th>dew_temperature</th>\n",
       "      <th>...</th>\n",
       "      <th>wind_speed</th>\n",
       "      <th>offset</th>\n",
       "      <th>year</th>\n",
       "      <th>is_holiday</th>\n",
       "      <th>beaufort_scale</th>\n",
       "      <th>group</th>\n",
       "      <th>weekday_sin</th>\n",
       "      <th>hour_sin</th>\n",
       "      <th>day_sin</th>\n",
       "      <th>month_sin</th>\n",
       "    </tr>\n",
       "  </thead>\n",
       "  <tbody>\n",
       "    <tr>\n",
       "      <td>103</td>\n",
       "      <td>105</td>\n",
       "      <td>0</td>\n",
       "      <td>1</td>\n",
       "      <td>0</td>\n",
       "      <td>10.835938</td>\n",
       "      <td>1968.0</td>\n",
       "      <td>5.0</td>\n",
       "      <td>3.800781</td>\n",
       "      <td>0.0</td>\n",
       "      <td>2.400391</td>\n",
       "      <td>...</td>\n",
       "      <td>3.099609</td>\n",
       "      <td>0.0</td>\n",
       "      <td>116</td>\n",
       "      <td>1</td>\n",
       "      <td>2.0</td>\n",
       "      <td>1</td>\n",
       "      <td>-0.433838</td>\n",
       "      <td>0.0</td>\n",
       "      <td>0.201294</td>\n",
       "      <td>0.5</td>\n",
       "    </tr>\n",
       "    <tr>\n",
       "      <td>104</td>\n",
       "      <td>106</td>\n",
       "      <td>0</td>\n",
       "      <td>1</td>\n",
       "      <td>0</td>\n",
       "      <td>8.585938</td>\n",
       "      <td>1968.0</td>\n",
       "      <td>4.0</td>\n",
       "      <td>3.800781</td>\n",
       "      <td>0.0</td>\n",
       "      <td>2.400391</td>\n",
       "      <td>...</td>\n",
       "      <td>3.099609</td>\n",
       "      <td>0.0</td>\n",
       "      <td>116</td>\n",
       "      <td>1</td>\n",
       "      <td>2.0</td>\n",
       "      <td>1</td>\n",
       "      <td>-0.433838</td>\n",
       "      <td>0.0</td>\n",
       "      <td>0.201294</td>\n",
       "      <td>0.5</td>\n",
       "    </tr>\n",
       "    <tr>\n",
       "      <td>105</td>\n",
       "      <td>106</td>\n",
       "      <td>3</td>\n",
       "      <td>1</td>\n",
       "      <td>0</td>\n",
       "      <td>8.585938</td>\n",
       "      <td>1968.0</td>\n",
       "      <td>4.0</td>\n",
       "      <td>3.800781</td>\n",
       "      <td>0.0</td>\n",
       "      <td>2.400391</td>\n",
       "      <td>...</td>\n",
       "      <td>3.099609</td>\n",
       "      <td>0.0</td>\n",
       "      <td>116</td>\n",
       "      <td>1</td>\n",
       "      <td>2.0</td>\n",
       "      <td>1</td>\n",
       "      <td>-0.433838</td>\n",
       "      <td>0.0</td>\n",
       "      <td>0.201294</td>\n",
       "      <td>0.5</td>\n",
       "    </tr>\n",
       "    <tr>\n",
       "      <td>106</td>\n",
       "      <td>107</td>\n",
       "      <td>0</td>\n",
       "      <td>1</td>\n",
       "      <td>0</td>\n",
       "      <td>11.484375</td>\n",
       "      <td>2005.0</td>\n",
       "      <td>10.0</td>\n",
       "      <td>3.800781</td>\n",
       "      <td>0.0</td>\n",
       "      <td>2.400391</td>\n",
       "      <td>...</td>\n",
       "      <td>3.099609</td>\n",
       "      <td>0.0</td>\n",
       "      <td>116</td>\n",
       "      <td>1</td>\n",
       "      <td>2.0</td>\n",
       "      <td>1</td>\n",
       "      <td>-0.433838</td>\n",
       "      <td>0.0</td>\n",
       "      <td>0.201294</td>\n",
       "      <td>0.5</td>\n",
       "    </tr>\n",
       "    <tr>\n",
       "      <td>107</td>\n",
       "      <td>108</td>\n",
       "      <td>0</td>\n",
       "      <td>1</td>\n",
       "      <td>0</td>\n",
       "      <td>11.312500</td>\n",
       "      <td>1913.0</td>\n",
       "      <td>5.0</td>\n",
       "      <td>3.800781</td>\n",
       "      <td>0.0</td>\n",
       "      <td>2.400391</td>\n",
       "      <td>...</td>\n",
       "      <td>3.099609</td>\n",
       "      <td>0.0</td>\n",
       "      <td>116</td>\n",
       "      <td>1</td>\n",
       "      <td>2.0</td>\n",
       "      <td>1</td>\n",
       "      <td>-0.433838</td>\n",
       "      <td>0.0</td>\n",
       "      <td>0.201294</td>\n",
       "      <td>0.5</td>\n",
       "    </tr>\n",
       "  </tbody>\n",
       "</table>\n",
       "<p>5 rows × 23 columns</p>\n",
       "</div>"
      ],
      "text/plain": [
       "     building_id  meter  site_id  primary_use  square_feet  year_built  \\\n",
       "103          105      0        1            0    10.835938      1968.0   \n",
       "104          106      0        1            0     8.585938      1968.0   \n",
       "105          106      3        1            0     8.585938      1968.0   \n",
       "106          107      0        1            0    11.484375      2005.0   \n",
       "107          108      0        1            0    11.312500      1913.0   \n",
       "\n",
       "     floor_count  air_temperature  cloud_coverage  dew_temperature  ...  \\\n",
       "103          5.0         3.800781             0.0         2.400391  ...   \n",
       "104          4.0         3.800781             0.0         2.400391  ...   \n",
       "105          4.0         3.800781             0.0         2.400391  ...   \n",
       "106         10.0         3.800781             0.0         2.400391  ...   \n",
       "107          5.0         3.800781             0.0         2.400391  ...   \n",
       "\n",
       "     wind_speed  offset  year  is_holiday  beaufort_scale  group  weekday_sin  \\\n",
       "103    3.099609     0.0   116           1             2.0      1    -0.433838   \n",
       "104    3.099609     0.0   116           1             2.0      1    -0.433838   \n",
       "105    3.099609     0.0   116           1             2.0      1    -0.433838   \n",
       "106    3.099609     0.0   116           1             2.0      1    -0.433838   \n",
       "107    3.099609     0.0   116           1             2.0      1    -0.433838   \n",
       "\n",
       "     hour_sin   day_sin  month_sin  \n",
       "103       0.0  0.201294        0.5  \n",
       "104       0.0  0.201294        0.5  \n",
       "105       0.0  0.201294        0.5  \n",
       "106       0.0  0.201294        0.5  \n",
       "107       0.0  0.201294        0.5  \n",
       "\n",
       "[5 rows x 23 columns]"
      ]
     },
     "execution_count": 76,
     "metadata": {},
     "output_type": "execute_result"
    }
   ],
   "source": [
    "full_train_df.head()"
   ]
  },
  {
   "cell_type": "code",
   "execution_count": 77,
   "metadata": {
    "execution": {
     "iopub.execute_input": "2023-12-12T13:01:02.859096Z",
     "iopub.status.busy": "2023-12-12T13:01:02.858748Z",
     "iopub.status.idle": "2023-12-12T13:09:08.076235Z",
     "shell.execute_reply": "2023-12-12T13:09:08.074917Z",
     "shell.execute_reply.started": "2023-12-12T13:01:02.859022Z"
    }
   },
   "outputs": [
    {
     "name": "stderr",
     "output_type": "stream",
     "text": [
      "/opt/conda/lib/python3.6/site-packages/lightgbm/basic.py:1205: UserWarning: Using categorical_feature in Dataset.\n",
      "  warnings.warn('Using categorical_feature in Dataset.')\n",
      "/opt/conda/lib/python3.6/site-packages/lightgbm/basic.py:762: UserWarning: categorical_feature in param dict is overridden.\n",
      "  warnings.warn('categorical_feature in param dict is overridden.')\n"
     ]
    },
    {
     "name": "stdout",
     "output_type": "stream",
     "text": [
      "Training until validation scores don't improve for 100 rounds.\n",
      "[100]\ttraining's rmse: 0.860924\tvalid_1's rmse: 1.1908\n",
      "[200]\ttraining's rmse: 0.798752\tvalid_1's rmse: 1.18634\n",
      "[300]\ttraining's rmse: 0.769253\tvalid_1's rmse: 1.18272\n",
      "[400]\ttraining's rmse: 0.746902\tvalid_1's rmse: 1.1821\n",
      "Early stopping, best iteration is:\n",
      "[349]\ttraining's rmse: 0.758543\tvalid_1's rmse: 1.18162\n",
      "Training until validation scores don't improve for 100 rounds.\n",
      "[100]\ttraining's rmse: 0.904698\tvalid_1's rmse: 1.17205\n",
      "[200]\ttraining's rmse: 0.829832\tvalid_1's rmse: 1.16692\n",
      "Early stopping, best iteration is:\n",
      "[129]\ttraining's rmse: 0.874455\tvalid_1's rmse: 1.16487\n"
     ]
    }
   ],
   "source": [
    "params = {\n",
    "            'boosting_type': 'gbdt',\n",
    "            'objective': 'regression',\n",
    "            'metric': {'rmse'},\n",
    "            'subsample': 0.4,\n",
    "            'subsample_freq': 1,\n",
    "            'learning_rate': 0.25,\n",
    "            'num_leaves': 31,\n",
    "            'feature_fraction': 0.8,\n",
    "            'lambda_l1': 1,\n",
    "            'lambda_l2': 1\n",
    "            }\n",
    "\n",
    "folds = 2\n",
    "seed = 666\n",
    "\n",
    "# kf = StratifiedKFold(n_splits=folds, shuffle=False, random_state=seed)\n",
    "\n",
    "# models = []\n",
    "# for train_index, val_index in kf.split(full_train_df, full_train_df['building_id']):\n",
    "#     train_X = full_train_df[feat_cols].iloc[train_index]\n",
    "#     val_X = full_train_df[feat_cols].iloc[val_index]\n",
    "#     train_y = target.iloc[train_index]\n",
    "#     val_y = target.iloc[val_index]\n",
    "#     lgb_train = lgb.Dataset(train_X, train_y, categorical_feature=categoricals)\n",
    "#     lgb_eval = lgb.Dataset(val_X, val_y, categorical_feature=categoricals)\n",
    "#     gbm = lgb.train(params,\n",
    "#                 lgb_train,\n",
    "#                 num_boost_round=500,\n",
    "#                 valid_sets=(lgb_train, lgb_eval),\n",
    "#                 early_stopping_rounds=100,\n",
    "#                 verbose_eval = 100)\n",
    "#     models.append(gbm)\n",
    "kf = GroupKFold(n_splits=folds)\n",
    "\n",
    "models = []\n",
    "for train_index, val_index in kf.split(full_train_df, full_train_df['building_id'], groups=full_train_df['group']):\n",
    "#     train_X, train_y = full_train_df[feat_cols].loc[train_index], full_train_df['meter_reading'][train_index]\n",
    "#     val_X, val_y = full_train_df[feat_cols].loc[val_index], full_train_df['meter_reading'][val_index]\n",
    "    train_X = full_train_df[feat_cols].iloc[train_index]\n",
    "    val_X = full_train_df[feat_cols].iloc[val_index]\n",
    "    train_y = target.iloc[train_index]\n",
    "    val_y = target.iloc[val_index]\n",
    "    lgb_train = lgb.Dataset(train_X, train_y, categorical_feature=categoricals)\n",
    "    lgb_eval = lgb.Dataset(val_X, val_y, categorical_feature=categoricals)\n",
    "    gbm = lgb.train(params,\n",
    "                lgb_train,\n",
    "                num_boost_round=500,\n",
    "                valid_sets=(lgb_train, lgb_eval),\n",
    "                early_stopping_rounds=100,\n",
    "                verbose_eval = 100)\n",
    "    models.append(gbm)"
   ]
  },
  {
   "cell_type": "code",
   "execution_count": 78,
   "metadata": {
    "execution": {
     "iopub.execute_input": "2023-12-12T13:09:08.078152Z",
     "iopub.status.busy": "2023-12-12T13:09:08.077830Z",
     "iopub.status.idle": "2023-12-12T13:09:08.310416Z",
     "shell.execute_reply": "2023-12-12T13:09:08.309371Z",
     "shell.execute_reply.started": "2023-12-12T13:09:08.078100Z"
    }
   },
   "outputs": [
    {
     "data": {
      "text/plain": [
       "411"
      ]
     },
     "execution_count": 78,
     "metadata": {},
     "output_type": "execute_result"
    }
   ],
   "source": [
    "del full_train_df, train_X, val_X, lgb_train, lgb_eval, train_y, val_y, target\n",
    "gc.collect()"
   ]
  },
  {
   "cell_type": "code",
   "execution_count": 79,
   "metadata": {
    "execution": {
     "iopub.execute_input": "2023-12-12T13:09:08.313087Z",
     "iopub.status.busy": "2023-12-12T13:09:08.312662Z",
     "iopub.status.idle": "2023-12-12T13:09:08.317946Z",
     "shell.execute_reply": "2023-12-12T13:09:08.316562Z",
     "shell.execute_reply.started": "2023-12-12T13:09:08.313003Z"
    }
   },
   "outputs": [],
   "source": [
    "# full_test_df = pd.read_pickle('full_test_df.pkl')"
   ]
  },
  {
   "cell_type": "code",
   "execution_count": 80,
   "metadata": {
    "execution": {
     "iopub.execute_input": "2023-12-12T13:09:08.320780Z",
     "iopub.status.busy": "2023-12-12T13:09:08.320326Z",
     "iopub.status.idle": "2023-12-12T13:09:08.334252Z",
     "shell.execute_reply": "2023-12-12T13:09:08.332977Z",
     "shell.execute_reply.started": "2023-12-12T13:09:08.320705Z"
    }
   },
   "outputs": [],
   "source": [
    "# full_test_df.loc[(full_test_df['primary_use'] == le.transform(['Education'])[0]) & (full_test_df['month'] >= 6) & (full_test_df['month'] <= 8), 'is_vacation_month'] = np.int8(1)\n",
    "# full_test_df.loc[full_test_df['is_vacation_month']!=1, 'is_vacation_month'] = np.int8(0)"
   ]
  },
  {
   "cell_type": "code",
   "execution_count": 81,
   "metadata": {
    "execution": {
     "iopub.execute_input": "2023-12-12T13:09:08.336506Z",
     "iopub.status.busy": "2023-12-12T13:09:08.336177Z",
     "iopub.status.idle": "2023-12-12T13:09:35.106139Z",
     "shell.execute_reply": "2023-12-12T13:09:35.104860Z",
     "shell.execute_reply.started": "2023-12-12T13:09:08.336460Z"
    }
   },
   "outputs": [],
   "source": [
    "for item in beaufort:\n",
    "    full_test_df.loc[(full_test_df['wind_speed']>=item[1]) & (full_test_df['wind_speed']<item[2]), 'beaufort_scale'] = item[0]"
   ]
  },
  {
   "cell_type": "code",
   "execution_count": 82,
   "metadata": {
    "execution": {
     "iopub.execute_input": "2023-12-12T13:09:35.108493Z",
     "iopub.status.busy": "2023-12-12T13:09:35.108004Z",
     "iopub.status.idle": "2023-12-12T13:09:39.310245Z",
     "shell.execute_reply": "2023-12-12T13:09:39.309180Z",
     "shell.execute_reply.started": "2023-12-12T13:09:35.108384Z"
    }
   },
   "outputs": [],
   "source": [
    "full_test_df = encode_cyclic_feature(full_test_df, 'weekday', 7)\n",
    "full_test_df = encode_cyclic_feature(full_test_df, 'hour', 24)\n",
    "full_test_df = encode_cyclic_feature(full_test_df, 'day', 31)\n",
    "full_test_df = encode_cyclic_feature(full_test_df, 'month', 12)"
   ]
  },
  {
   "cell_type": "code",
   "execution_count": 83,
   "metadata": {
    "execution": {
     "iopub.execute_input": "2023-12-12T13:09:39.312561Z",
     "iopub.status.busy": "2023-12-12T13:09:39.312064Z",
     "iopub.status.idle": "2023-12-12T13:09:44.834842Z",
     "shell.execute_reply": "2023-12-12T13:09:44.833599Z",
     "shell.execute_reply.started": "2023-12-12T13:09:39.312512Z"
    }
   },
   "outputs": [],
   "source": [
    "full_test_df = full_test_df[feat_cols]"
   ]
  },
  {
   "cell_type": "code",
   "execution_count": 84,
   "metadata": {
    "execution": {
     "iopub.execute_input": "2023-12-12T13:09:44.837317Z",
     "iopub.status.busy": "2023-12-12T13:09:44.836899Z",
     "iopub.status.idle": "2023-12-12T13:09:56.328129Z",
     "shell.execute_reply": "2023-12-12T13:09:56.325466Z",
     "shell.execute_reply.started": "2023-12-12T13:09:44.837246Z"
    }
   },
   "outputs": [
    {
     "name": "stdout",
     "output_type": "stream",
     "text": [
      "Mem. usage decreased to 1590.64 Mb (42.9% reduction)\n"
     ]
    }
   ],
   "source": [
    "full_test_df = reduce_mem_usage(full_test_df)"
   ]
  },
  {
   "cell_type": "code",
   "execution_count": 85,
   "metadata": {
    "execution": {
     "iopub.execute_input": "2023-12-12T13:09:56.331143Z",
     "iopub.status.busy": "2023-12-12T13:09:56.330326Z"
    }
   },
   "outputs": [
    {
     "name": "stderr",
     "output_type": "stream",
     "text": [
      "100%|██████████| 834/834 [07:21<00:00,  1.89it/s]\n"
     ]
    }
   ],
   "source": [
    "i=0\n",
    "res=[]\n",
    "step_size = 50000\n",
    "for j in tqdm(range(int(np.ceil(full_test_df.shape[0]/50000)))):\n",
    "    res.append(np.expm1(sum([model.predict(full_test_df.iloc[i:i+step_size]) for model in models])/folds))\n",
    "    i+=step_size"
   ]
  },
  {
   "cell_type": "code",
   "execution_count": 86,
   "metadata": {},
   "outputs": [],
   "source": [
    "res = np.concatenate(res)"
   ]
  },
  {
   "cell_type": "code",
   "execution_count": 87,
   "metadata": {},
   "outputs": [
    {
     "data": {
      "text/html": [
       "<div>\n",
       "<style scoped>\n",
       "    .dataframe tbody tr th:only-of-type {\n",
       "        vertical-align: middle;\n",
       "    }\n",
       "\n",
       "    .dataframe tbody tr th {\n",
       "        vertical-align: top;\n",
       "    }\n",
       "\n",
       "    .dataframe thead th {\n",
       "        text-align: right;\n",
       "    }\n",
       "</style>\n",
       "<table border=\"1\" class=\"dataframe\">\n",
       "  <thead>\n",
       "    <tr style=\"text-align: right;\">\n",
       "      <th></th>\n",
       "      <th>row_id</th>\n",
       "      <th>meter_reading</th>\n",
       "    </tr>\n",
       "  </thead>\n",
       "  <tbody>\n",
       "    <tr>\n",
       "      <td>0</td>\n",
       "      <td>0</td>\n",
       "      <td>122.945519</td>\n",
       "    </tr>\n",
       "    <tr>\n",
       "      <td>1</td>\n",
       "      <td>1</td>\n",
       "      <td>68.343653</td>\n",
       "    </tr>\n",
       "    <tr>\n",
       "      <td>2</td>\n",
       "      <td>2</td>\n",
       "      <td>11.108678</td>\n",
       "    </tr>\n",
       "    <tr>\n",
       "      <td>3</td>\n",
       "      <td>3</td>\n",
       "      <td>172.403901</td>\n",
       "    </tr>\n",
       "    <tr>\n",
       "      <td>4</td>\n",
       "      <td>4</td>\n",
       "      <td>801.693164</td>\n",
       "    </tr>\n",
       "    <tr>\n",
       "      <td>...</td>\n",
       "      <td>...</td>\n",
       "      <td>...</td>\n",
       "    </tr>\n",
       "    <tr>\n",
       "      <td>41697595</td>\n",
       "      <td>41697595</td>\n",
       "      <td>5.809766</td>\n",
       "    </tr>\n",
       "    <tr>\n",
       "      <td>41697596</td>\n",
       "      <td>41697596</td>\n",
       "      <td>4.114761</td>\n",
       "    </tr>\n",
       "    <tr>\n",
       "      <td>41697597</td>\n",
       "      <td>41697597</td>\n",
       "      <td>2.402474</td>\n",
       "    </tr>\n",
       "    <tr>\n",
       "      <td>41697598</td>\n",
       "      <td>41697598</td>\n",
       "      <td>168.788780</td>\n",
       "    </tr>\n",
       "    <tr>\n",
       "      <td>41697599</td>\n",
       "      <td>41697599</td>\n",
       "      <td>3.193005</td>\n",
       "    </tr>\n",
       "  </tbody>\n",
       "</table>\n",
       "<p>41697600 rows × 2 columns</p>\n",
       "</div>"
      ],
      "text/plain": [
       "            row_id  meter_reading\n",
       "0                0     122.945519\n",
       "1                1      68.343653\n",
       "2                2      11.108678\n",
       "3                3     172.403901\n",
       "4                4     801.693164\n",
       "...            ...            ...\n",
       "41697595  41697595       5.809766\n",
       "41697596  41697596       4.114761\n",
       "41697597  41697597       2.402474\n",
       "41697598  41697598     168.788780\n",
       "41697599  41697599       3.193005\n",
       "\n",
       "[41697600 rows x 2 columns]"
      ]
     },
     "execution_count": 87,
     "metadata": {},
     "output_type": "execute_result"
    }
   ],
   "source": [
    "submission = pd.read_csv('/kaggle/input/ashrae-energy-prediction/sample_submission.csv')\n",
    "submission['meter_reading'] = res\n",
    "submission.loc[submission['meter_reading']<0, 'meter_reading'] = 0\n",
    "submission.to_csv('submission_fe_lgbm.csv', index=False)\n",
    "submission"
   ]
  }
 ],
 "metadata": {
  "kaggle": {
   "accelerator": "none",
   "dataSources": [
    {
     "databundleVersionId": 752467,
     "sourceId": 9994,
     "sourceType": "competition"
    }
   ],
   "dockerImageVersionId": 29661,
   "isGpuEnabled": false,
   "isInternetEnabled": false,
   "language": "python",
   "sourceType": "notebook"
  },
  "kernelspec": {
   "display_name": "Python 3 (ipykernel)",
   "language": "python",
   "name": "python3"
  },
  "language_info": {
   "codemirror_mode": {
    "name": "ipython",
    "version": 3
   },
   "file_extension": ".py",
   "mimetype": "text/x-python",
   "name": "python",
   "nbconvert_exporter": "python",
   "pygments_lexer": "ipython3",
   "version": "3.9.12"
  }
 },
 "nbformat": 4,
 "nbformat_minor": 4
}
